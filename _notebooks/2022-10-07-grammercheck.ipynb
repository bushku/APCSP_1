{
 "cells": [
  {
   "cell_type": "markdown",
   "metadata": {},
   "source": [
    "# JSpell Checker API\n",
    "- toc: true\n",
    "- comments: true\n",
    "- categories: [APCSP]"
   ]
  },
  {
   "cell_type": "code",
   "execution_count": 1,
   "metadata": {},
   "outputs": [
    {
     "name": "stdout",
     "output_type": "stream",
     "text": [
      "{\"elements\":[{\"id\":0,\"errors\":[{\"word\":\"thiss\",\"position\":0,\"suggestions\":[\"this\",\"thighs\",\"theist\",\"thesis\",\"theists\",\"theism\",\"twits\",\"ethics\",\"thigh\",\"twists\"]},{\"word\":\"intresting\",\"position\":9,\"suggestions\":[\"interesting\",\"entreating\",\"entrusting\",\"uninteresting\",\"intersecting\",\"untrusting\",\"interstice\",\"entireties\",\"interning\",\"interpreting\"]}]}],\"spellingErrorCount\":2}\n"
     ]
    }
   ],
   "source": [
    "import requests\n",
    "\n",
    "url = \"https://jspell-checker.p.rapidapi.com/check\"\n",
    "\n",
    "payload = {\n",
    "\t\"language\": \"enUS\",\n",
    "\t\"fieldvalues\": \"thiss is intresting\",\n",
    "\t\"config\": {\n",
    "\t\t\"forceUpperCase\": False,\n",
    "\t\t\"ignoreIrregularCaps\": False,\n",
    "\t\t\"ignoreFirstCaps\": True,\n",
    "\t\t\"ignoreNumbers\": True,\n",
    "\t\t\"ignoreUpper\": False,\n",
    "\t\t\"ignoreDouble\": False,\n",
    "\t\t\"ignoreWordsWithNumbers\": True\n",
    "\t}\n",
    "}\n",
    "headers = {\n",
    "\t\"content-type\": \"application/json\",\n",
    "\t\"X-RapidAPI-Key\": \"068e8e71ccmsh9b3b0cf234e3d0dp15d891jsn4e9a94382eba\",\n",
    "\t\"X-RapidAPI-Host\": \"jspell-checker.p.rapidapi.com\"\n",
    "}\n",
    "\n",
    "response = requests.request(\"POST\", url, json=payload, headers=headers)\n",
    "\n",
    "print(response.text)"
   ]
  }
 ],
 "metadata": {
  "kernelspec": {
   "display_name": "Python 3.9.12 ('base')",
   "language": "python",
   "name": "python3"
  },
  "language_info": {
   "codemirror_mode": {
    "name": "ipython",
    "version": 3
   },
   "file_extension": ".py",
   "mimetype": "text/x-python",
   "name": "python",
   "nbconvert_exporter": "python",
   "pygments_lexer": "ipython3",
   "version": "3.9.12"
  },
  "orig_nbformat": 4,
  "vscode": {
   "interpreter": {
    "hash": "bb3b45b69dd672c7037523c2546b9f78b450f43deb1ccb950b07e59b48e1e770"
   }
  }
 },
 "nbformat": 4,
 "nbformat_minor": 2
}
