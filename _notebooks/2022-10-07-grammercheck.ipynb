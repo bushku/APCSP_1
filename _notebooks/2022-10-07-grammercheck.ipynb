{
 "cells": [
  {
   "cell_type": "markdown",
   "metadata": {},
   "source": [
    "# JSpell Checker API\n",
    "- toc: true\n",
    "- comments: true\n",
    "- categories: [APCSP]"
   ]
  },
  {
   "cell_type": "code",
   "execution_count": 2,
   "metadata": {},
   "outputs": [
    {
     "name": "stdout",
     "output_type": "stream",
     "text": [
      "[{\"name\":\"Arabic\",\"code\":\"ar\",\"longCode\":\"ar\"},{\"name\":\"Asturian\",\"code\":\"ast\",\"longCode\":\"ast-ES\"},{\"name\":\"Belarusian\",\"code\":\"be\",\"longCode\":\"be-BY\"},{\"name\":\"Breton\",\"code\":\"br\",\"longCode\":\"br-FR\"},{\"name\":\"Catalan\",\"code\":\"ca\",\"longCode\":\"ca-ES\"},{\"name\":\"Catalan (Valencian)\",\"code\":\"ca\",\"longCode\":\"ca-ES-valencia\"},{\"name\":\"Chinese\",\"code\":\"zh\",\"longCode\":\"zh-CN\"},{\"name\":\"Danish\",\"code\":\"da\",\"longCode\":\"da-DK\"},{\"name\":\"Dutch\",\"code\":\"nl\",\"longCode\":\"nl\"},{\"name\":\"Dutch\",\"code\":\"nl\",\"longCode\":\"nl\"},{\"name\":\"Dutch (Belgium)\",\"code\":\"nl\",\"longCode\":\"nl-BE\"},{\"name\":\"English\",\"code\":\"en\",\"longCode\":\"en\"},{\"name\":\"English\",\"code\":\"en\",\"longCode\":\"en\"},{\"name\":\"English (Australian)\",\"code\":\"en\",\"longCode\":\"en-AU\"},{\"name\":\"English (Australian)\",\"code\":\"en\",\"longCode\":\"en-AU\"},{\"name\":\"English (Canadian)\",\"code\":\"en\",\"longCode\":\"en-CA\"},{\"name\":\"English (Canadian)\",\"code\":\"en\",\"longCode\":\"en-CA\"},{\"name\":\"English (GB)\",\"code\":\"en\",\"longCode\":\"en-GB\"},{\"name\":\"English (GB)\",\"code\":\"en\",\"longCode\":\"en-GB\"},{\"name\":\"English (New Zealand)\",\"code\":\"en\",\"longCode\":\"en-NZ\"},{\"name\":\"English (New Zealand)\",\"code\":\"en\",\"longCode\":\"en-NZ\"},{\"name\":\"English (South African)\",\"code\":\"en\",\"longCode\":\"en-ZA\"},{\"name\":\"English (South African)\",\"code\":\"en\",\"longCode\":\"en-ZA\"},{\"name\":\"English (US)\",\"code\":\"en\",\"longCode\":\"en-US\"},{\"name\":\"English (US)\",\"code\":\"en\",\"longCode\":\"en-US\"},{\"name\":\"Esperanto\",\"code\":\"eo\",\"longCode\":\"eo\"},{\"name\":\"French\",\"code\":\"fr\",\"longCode\":\"fr\"},{\"name\":\"French\",\"code\":\"fr\",\"longCode\":\"fr\"},{\"name\":\"Galician\",\"code\":\"gl\",\"longCode\":\"gl-ES\"},{\"name\":\"German\",\"code\":\"de\",\"longCode\":\"de\"},{\"name\":\"German\",\"code\":\"de\",\"longCode\":\"de\"},{\"name\":\"German (Austria)\",\"code\":\"de\",\"longCode\":\"de-AT\"},{\"name\":\"German (Austria)\",\"code\":\"de\",\"longCode\":\"de-AT\"},{\"name\":\"German (Germany)\",\"code\":\"de\",\"longCode\":\"de-DE\"},{\"name\":\"German (Germany)\",\"code\":\"de\",\"longCode\":\"de-DE\"},{\"name\":\"German (Swiss)\",\"code\":\"de\",\"longCode\":\"de-CH\"},{\"name\":\"German (Swiss)\",\"code\":\"de\",\"longCode\":\"de-CH\"},{\"name\":\"Greek\",\"code\":\"el\",\"longCode\":\"el-GR\"},{\"name\":\"Irish\",\"code\":\"ga\",\"longCode\":\"ga-IE\"},{\"name\":\"Italian\",\"code\":\"it\",\"longCode\":\"it\"},{\"name\":\"Japanese\",\"code\":\"ja\",\"longCode\":\"ja-JP\"},{\"name\":\"Khmer\",\"code\":\"km\",\"longCode\":\"km-KH\"},{\"name\":\"Norwegian (Bokmål)\",\"code\":\"nb\",\"longCode\":\"nb\"},{\"name\":\"Norwegian (Bokmål)\",\"code\":\"no\",\"longCode\":\"no\"},{\"name\":\"Persian\",\"code\":\"fa\",\"longCode\":\"fa\"},{\"name\":\"Polish\",\"code\":\"pl\",\"longCode\":\"pl-PL\"},{\"name\":\"Portuguese\",\"code\":\"pt\",\"longCode\":\"pt\"},{\"name\":\"Portuguese (Angola preAO)\",\"code\":\"pt\",\"longCode\":\"pt-AO\"},{\"name\":\"Portuguese (Angola preAO)\",\"code\":\"pt\",\"longCode\":\"pt-AO\"},{\"name\":\"Portuguese (Brazil)\",\"code\":\"pt\",\"longCode\":\"pt-BR\"},{\"name\":\"Portuguese (Brazil)\",\"code\":\"pt\",\"longCode\":\"pt-BR\"},{\"name\":\"Portuguese (Moçambique preAO)\",\"code\":\"pt\",\"longCode\":\"pt-MZ\"},{\"name\":\"Portuguese (Moçambique preAO)\",\"code\":\"pt\",\"longCode\":\"pt-MZ\"},{\"name\":\"Portuguese (Portugal)\",\"code\":\"pt\",\"longCode\":\"pt-PT\"},{\"name\":\"Portuguese (Portugal)\",\"code\":\"pt\",\"longCode\":\"pt-PT\"},{\"name\":\"Romanian\",\"code\":\"ro\",\"longCode\":\"ro-RO\"},{\"name\":\"Russian\",\"code\":\"ru\",\"longCode\":\"ru-RU\"},{\"name\":\"Simple German\",\"code\":\"de-DE-x-simple-language\",\"longCode\":\"de-DE-x-simple-language\"},{\"name\":\"Slovak\",\"code\":\"sk\",\"longCode\":\"sk-SK\"},{\"name\":\"Slovenian\",\"code\":\"sl\",\"longCode\":\"sl-SI\"},{\"name\":\"Spanish\",\"code\":\"es\",\"longCode\":\"es\"},{\"name\":\"Spanish\",\"code\":\"es\",\"longCode\":\"es\"},{\"name\":\"Spanish (voseo)\",\"code\":\"es\",\"longCode\":\"es-AR\"},{\"name\":\"Swedish\",\"code\":\"sv\",\"longCode\":\"sv\"},{\"name\":\"Tagalog\",\"code\":\"tl\",\"longCode\":\"tl-PH\"},{\"name\":\"Tamil\",\"code\":\"ta\",\"longCode\":\"ta-IN\"},{\"name\":\"Ukrainian\",\"code\":\"uk\",\"longCode\":\"uk-UA\"}]\n"
     ]
    }
   ],
   "source": [
    "import requests\n",
    "\n",
    "url = \"https://dnaber-languagetool.p.rapidapi.com/v2/languages\"\n",
    "\n",
    "headers = {\n",
    "\t\"X-RapidAPI-Key\": \"068e8e71ccmsh9b3b0cf234e3d0dp15d891jsn4e9a94382eba\",\n",
    "\t\"X-RapidAPI-Host\": \"dnaber-languagetool.p.rapidapi.com\"\n",
    "}\n",
    "\n",
    "response = requests.request(\"GET\", url, headers=headers)\n",
    "\n",
    "print(response.text)"
   ]
  },
  {
   "cell_type": "code",
   "execution_count": 4,
   "metadata": {},
   "outputs": [
    {
     "name": "stdout",
     "output_type": "stream",
     "text": [
      "[\n",
      "    {\n",
      "        \"message\": \"Use \\u201can\\u201d instead of \\u2018a\\u2019 if the following word starts with a vowel sound, e.g.\\u00a0\\u2018an article\\u2019, \\u2018an hour\\u2019.\",\n",
      "        \"shortMessage\": \"Wrong article\",\n",
      "        \"replacements\": [\n",
      "            {\n",
      "                \"value\": \"an\"\n",
      "            }\n",
      "        ],\n",
      "        \"offset\": 8,\n",
      "        \"length\": 1,\n",
      "        \"context\": {\n",
      "            \"text\": \"This is a error.hello 67uh8i\",\n",
      "            \"offset\": 8,\n",
      "            \"length\": 1\n",
      "        },\n",
      "        \"sentence\": \"This is a error.hello 67uh8i\",\n",
      "        \"type\": {\n",
      "            \"typeName\": \"Other\"\n",
      "        },\n",
      "        \"rule\": {\n",
      "            \"id\": \"EN_A_VS_AN\",\n",
      "            \"description\": \"Use of 'a' vs. 'an'\",\n",
      "            \"issueType\": \"misspelling\",\n",
      "            \"urls\": [\n",
      "                {\n",
      "                    \"value\": \"https://languagetool.org/insights/post/indefinite-articles/\"\n",
      "                }\n",
      "            ],\n",
      "            \"category\": {\n",
      "                \"id\": \"MISC\",\n",
      "                \"name\": \"Miscellaneous\"\n",
      "            },\n",
      "            \"isPremium\": false\n",
      "        },\n",
      "        \"ignoreForIncompleteSentence\": false,\n",
      "        \"contextForSureMatch\": 1\n",
      "    },\n",
      "    {\n",
      "        \"message\": \"If a new sentence starts here, add a space and start with an uppercase letter.\",\n",
      "        \"shortMessage\": \"Capitalization\",\n",
      "        \"replacements\": [\n",
      "            {\n",
      "                \"value\": \" Hello\"\n",
      "            },\n",
      "            {\n",
      "                \"value\": \" hello\"\n",
      "            }\n",
      "        ],\n",
      "        \"offset\": 16,\n",
      "        \"length\": 5,\n",
      "        \"context\": {\n",
      "            \"text\": \"This is a error.hello 67uh8i\",\n",
      "            \"offset\": 16,\n",
      "            \"length\": 5\n",
      "        },\n",
      "        \"sentence\": \"This is a error.hello 67uh8i\",\n",
      "        \"type\": {\n",
      "            \"typeName\": \"Other\"\n",
      "        },\n",
      "        \"rule\": {\n",
      "            \"id\": \"LC_AFTER_PERIOD\",\n",
      "            \"subId\": \"1\",\n",
      "            \"sourceFile\": \"grammar.xml\",\n",
      "            \"description\": \"Lowercase word after word and no space in between\",\n",
      "            \"issueType\": \"uncategorized\",\n",
      "            \"category\": {\n",
      "                \"id\": \"CASING\",\n",
      "                \"name\": \"Upper/Lowercase\"\n",
      "            },\n",
      "            \"isPremium\": false\n",
      "        },\n",
      "        \"ignoreForIncompleteSentence\": false,\n",
      "        \"contextForSureMatch\": 3\n",
      "    }\n",
      "]\n"
     ]
    }
   ],
   "source": [
    "import requests\n",
    "import json\n",
    "\n",
    "\n",
    "url = \"https://dnaber-languagetool.p.rapidapi.com/v2/check\"\n",
    "\n",
    "payload = \"language=en-US&text=This%20is%20a%20error.\"\n",
    "headers = {\n",
    "\t\"content-type\": \"application/x-www-form-urlencoded\",\n",
    "\t\"X-RapidAPI-Key\": \"068e8e71ccmsh9b3b0cf234e3d0dp15d891jsn4e9a94382eba\",\n",
    "\t\"X-RapidAPI-Host\": \"dnaber-languagetool.p.rapidapi.com\"\n",
    "}\n",
    "\n",
    "text = input(\"Please enter the text you would like checked\")\n",
    "\n",
    "payload += text\n",
    "\n",
    "response = requests.request(\"POST\", url, data=payload, headers=headers)\n",
    "\n",
    "#print(response.text)\n",
    "\n",
    "#print(json.dumps(response.json(), indent=4))\n",
    "\n",
    "print(json.dumps(response.json()[\"matches\"], indent=4))"
   ]
  }
 ],
 "metadata": {
  "kernelspec": {
   "display_name": "Python 3.9.12 ('base')",
   "language": "python",
   "name": "python3"
  },
  "language_info": {
   "codemirror_mode": {
    "name": "ipython",
    "version": 3
   },
   "file_extension": ".py",
   "mimetype": "text/x-python",
   "name": "python",
   "nbconvert_exporter": "python",
   "pygments_lexer": "ipython3",
   "version": "3.9.12"
  },
  "orig_nbformat": 4,
  "vscode": {
   "interpreter": {
    "hash": "bb3b45b69dd672c7037523c2546b9f78b450f43deb1ccb950b07e59b48e1e770"
   }
  }
 },
 "nbformat": 4,
 "nbformat_minor": 2
}
