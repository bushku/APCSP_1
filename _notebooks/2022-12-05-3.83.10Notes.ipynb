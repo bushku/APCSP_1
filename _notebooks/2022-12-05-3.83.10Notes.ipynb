{
 "cells": [
  {
   "cell_type": "markdown",
   "metadata": {},
   "source": [
    "---\n",
    "toc: true\n",
    "layout: notebook\n",
    "comments: true\n",
    "description: These are my 3.8 & 3.10 Notes.\n",
    "categories: [APCSP]\n",
    "title:  3.8 & 3.10 Notes\n",
    "---\n"
   ]
  },
  {
   "cell_type": "markdown",
   "metadata": {},
   "source": [
    "## 3.8 & 3.10 Notes "
   ]
  },
  {
   "cell_type": "markdown",
   "metadata": {},
   "source": [
    "Iteration: repeats loops many times until condition is met"
   ]
  },
  {
   "cell_type": "markdown",
   "metadata": {},
   "source": [
    "Iteration statement example: Let's say Lets say you are looking for a lost item inside of your house...\n",
    "What steps would you take?\n",
    "\n",
    "1. Let's say there are n rooms to search...\n",
    "number the rooms 1-n\n",
    "2. Look for the item in room number 1\n",
    "3. Search each room thoroughly for item\n",
    "4. Change each room number to the next highest number\n",
    "5. Repeat steps 3 & 4 until item is found\n",
    "\n",
    "The item being found counts as a stopping condition because if the item is found, the loop stops.\n"
   ]
  },
  {
   "cell_type": "code",
   "execution_count": 1,
   "metadata": {},
   "outputs": [
    {
     "name": "stdout",
     "output_type": "stream",
     "text": [
      "I love country music!\n",
      "I love country music!\n",
      "I love country music!\n",
      "I love country music!\n",
      "I love country music!\n"
     ]
    }
   ],
   "source": [
    "## Programming of Iteration\n",
    "i = 0\n",
    "while (i < 5):\n",
    "    print(\"I love country music!\")\n",
    "    i = i + 1"
   ]
  },
  {
   "cell_type": "markdown",
   "metadata": {},
   "source": [
    "Iteration statements: changes sequential flow control of repeating statements zero or more times until a stopping condition is met"
   ]
  },
  {
   "cell_type": "code",
   "execution_count": null,
   "metadata": {},
   "outputs": [],
   "source": []
  }
 ],
 "metadata": {
  "kernelspec": {
   "display_name": "Python 3.9.12 ('base')",
   "language": "python",
   "name": "python3"
  },
  "language_info": {
   "codemirror_mode": {
    "name": "ipython",
    "version": 3
   },
   "file_extension": ".py",
   "mimetype": "text/x-python",
   "name": "python",
   "nbconvert_exporter": "python",
   "pygments_lexer": "ipython3",
   "version": "3.9.12"
  },
  "orig_nbformat": 4,
  "vscode": {
   "interpreter": {
    "hash": "bb3b45b69dd672c7037523c2546b9f78b450f43deb1ccb950b07e59b48e1e770"
   }
  }
 },
 "nbformat": 4,
 "nbformat_minor": 2
}
