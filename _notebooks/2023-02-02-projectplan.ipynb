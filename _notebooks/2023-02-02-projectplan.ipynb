{
 "cells": [
  {
   "cell_type": "markdown",
   "metadata": {},
   "source": [
    "# CPT Project Notes\n",
    "> These are my CPT project notes."
   ]
  },
  {
   "cell_type": "markdown",
   "metadata": {},
   "source": [
    "<table id=\"BMITable\">\n",
    "  <thead>\n",
    "    <tr>\n",
    "      <th>BMI</th>\n",
    "    </tr>\n",
    "  </thead>\n",
    "  <tbody id=\"BMIList\">\n",
    "  </tbody>\n",
    "</table>\n",
    "<br>\n",
    "<input type=\"text\" id=\"BMIValue\">\n",
    "<button id=\"addBMIButton\">Add BMI</button>"
   ]
  },
  {
   "cell_type": "code",
   "execution_count": null,
   "metadata": {
    "vscode": {
     "languageId": "javascript"
    }
   },
   "outputs": [],
   "source": [
    "const BMIList = document.getElementById(\"BMIList\");\n",
    "const BMIValue = document.getElementById(\"BMIValue\");\n",
    "const addBMIButton = document.getElementById(\"addBMIButton\");\n",
    "\n",
    "addBMIButton.addEventListener(\"click\", function() {\n",
    "  const bmi = BMIValue.value;\n",
    "  const newRow = document.createElement(\"tr\");\n",
    "  const newBMI = document.createElement(\"td\");\n",
    "  newBMI.innerText = bmi;\n",
    "  newRow.appendChild(newBMI);\n",
    "  BMIList.appendChild(newRow);\n",
    "});"
   ]
  }
 ],
 "metadata": {
  "kernelspec": {
   "display_name": "Python 3",
   "language": "python",
   "name": "python3"
  },
  "language_info": {
   "codemirror_mode": {
    "name": "ipython",
    "version": 3
   },
   "file_extension": ".py",
   "mimetype": "text/x-python",
   "name": "python",
   "nbconvert_exporter": "python",
   "pygments_lexer": "ipython3",
   "version": "3.8.10 (default, Jun 22 2022, 20:18:18) \n[GCC 9.4.0]"
  },
  "orig_nbformat": 4,
  "vscode": {
   "interpreter": {
    "hash": "916dbcbb3f70747c44a77c7bcd40155683ae19c65e1c03b4aa3499c5328201f1"
   }
  }
 },
 "nbformat": 4,
 "nbformat_minor": 2
}
