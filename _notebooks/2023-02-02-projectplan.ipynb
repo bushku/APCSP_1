{
 "cells": [
  {
   "cell_type": "markdown",
   "metadata": {},
   "source": [
    "# CPT Project Notes\n",
    "> These are my CPT project notes."
   ]
  },
  {
   "cell_type": "markdown",
   "metadata": {},
   "source": [
    "<button id=\"addBMI\">Add BMI</button>\n",
    "<table id=\"bmiTable\">\n",
    "  <thead>\n",
    "    <tr>\n",
    "      <th>BMI</th>\n",
    "    </tr>\n",
    "  </thead>\n",
    "  <tbody id=\"bmiList\">\n",
    "  </tbody>\n",
    "</table>"
   ]
  },
  {
   "cell_type": "code",
   "execution_count": null,
   "metadata": {},
   "outputs": [],
   "source": [
    "const addBMIButton = document.querySelector('#addBMI');\n",
    "const bmiList"
   ]
  }
 ],
 "metadata": {
  "kernelspec": {
   "display_name": "JavaScript (Node.js)",
   "language": "javascript",
   "name": "javascript"
  },
  "language_info": {
   "name": "javascript"
  },
  "orig_nbformat": 4
 },
 "nbformat": 4,
 "nbformat_minor": 2
}
