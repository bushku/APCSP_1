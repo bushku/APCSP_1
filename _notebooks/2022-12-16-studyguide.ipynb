{
 "cells": [
  {
   "cell_type": "markdown",
   "metadata": {},
   "source": [
    "# Binary/Data and Algorithm Study Guide\n",
    "> This is my binary/data and algorithm study guide"
   ]
  },
  {
   "cell_type": "markdown",
   "metadata": {},
   "source": [
    "## Binary/Data Vocab\n",
    " - Bits: The smallest unit of data that a computer can process and store. A bit is always in one of two physical states, similar to an on/off light switch. The state is represented by a single binary value, usually a 0 or 1.\n",
    " - Bytes: A byte is a unit of data that is eight binary digits long. A byte is the unit most computers use to represent a character such as a letter, number or typographic symbol. 00000000 - 11111111\n",
    " - Hexadecimal: a numbering system w/ base 16. It can be used to represent large numbers with fewer digits. In this system there are 16 symbols or possible digit values from 0 to 9, followed by six alphabetic characters – A, B, C, D, E and F. It can be used for colors, ex. #FCD0E0\n",
    " - Boolean: a true/false value"
   ]
  },
  {
   "cell_type": "code",
   "execution_count": 1,
   "metadata": {},
   "outputs": [
    {
     "name": "stdout",
     "output_type": "stream",
     "text": [
      "True\n"
     ]
    },
    {
     "data": {
      "text/plain": [
       "False"
      ]
     },
     "execution_count": 1,
     "metadata": {},
     "output_type": "execute_result"
    }
   ],
   "source": [
    "c = 10 > 5\n",
    "print(c)\n",
    "\n",
    "a = \"pink\"\n",
    "b = \"purple\"\n",
    "a == b"
   ]
  },
  {
   "cell_type": "markdown",
   "metadata": {},
   "source": [
    "- ASCII: most common character encoding format for text data in computers and on the internet\n",
    "\n",
    "- Unicode: the universal character representation standard for text in computer processing.\n",
    "\n",
    "- RGB: (red, green, and blue) refers to a system for representing the colors to be used on a computer display.\n",
    "\n",
    "- Lossy: Lossy is a data encoding and compression technique that deliberately discards some data in the compression process\n",
    "\n",
    "- Lossless: restores and rebuilds file data in its original form after the file is decompressed"
   ]
  },
  {
   "cell_type": "markdown",
   "metadata": {},
   "source": [
    "## Algorithm Vocab\n",
    " - Variable: abstraction made inside a program"
   ]
  },
  {
   "cell_type": "code",
   "execution_count": 2,
   "metadata": {},
   "outputs": [
    {
     "name": "stdout",
     "output_type": "stream",
     "text": [
      "Alex\n"
     ]
    }
   ],
   "source": [
    "# Variable has a value of \"Alex\"\n",
    "x = \"Alex\"\n",
    "print(x)"
   ]
  },
  {
   "cell_type": "markdown",
   "metadata": {},
   "source": [
    "The three data types are integers, strings, and booleans.\n",
    "The best data type to represent someone's dog's name is a string. The best data type to represent someone's phone number is an integer."
   ]
  },
  {
   "cell_type": "code",
   "execution_count": 3,
   "metadata": {},
   "outputs": [
    {
     "name": "stdout",
     "output_type": "stream",
     "text": [
      "Timmy is 25\n"
     ]
    }
   ],
   "source": [
    "name = \"Timmy\"\n",
    "age = \"25\"\n",
    "\n",
    "print(name + \" is \" + age)"
   ]
  },
  {
   "cell_type": "markdown",
   "metadata": {},
   "source": [
    " - lists: abstract data type that represents a finite number of ordered values\n",
    "\n",
    " - dictionaries: an abstract data type that defines an unordered collection of data as a set of key-value pairs"
   ]
  },
  {
   "cell_type": "code",
   "execution_count": null,
   "metadata": {},
   "outputs": [],
   "source": [
    "classList = [\"Expos 2\", \"Bio 1\", \"Chamber Choir\", \"APCSP\", \"AP Stats\"] # list\n",
    "classDic = [\"period4\": \"APCSP\", \"period5\": \"AP Stats\"] # dictionary"
   ]
  },
  {
   "cell_type": "markdown",
   "metadata": {},
   "source": [
    "- assignment operators:\n",
    "  - addition: a + b\n",
    "  - subtraction: a - b\n",
    "  - multiplication: a * b\n",
    "  - division: a / b\n",
    "  - MOD: a % b"
   ]
  },
  {
   "cell_type": "code",
   "execution_count": 4,
   "metadata": {},
   "outputs": [
    {
     "name": "stdout",
     "output_type": "stream",
     "text": [
      "29.0\n"
     ]
    }
   ],
   "source": [
    "num1 = 12\n",
    "num2 = 25\n",
    "num3 = 14\n",
    "result = num1 / 4 * num3 + 9 % 2 - num3\n",
    "print(result)"
   ]
  },
  {
   "cell_type": "markdown",
   "metadata": {},
   "source": [
    " - algorithm: commands that do a certain task\n",
    "\n",
    " - sequence: the order in which the statements are executed\n",
    "\n",
    " - selection: a section of code is run only if a condition is met.\n",
    "\n",
    " - iteration: a repeating portion of an algorithm, repeats a specified number of times or until a given condition is met"
   ]
  },
  {
   "cell_type": "code",
   "execution_count": 5,
   "metadata": {},
   "outputs": [
    {
     "name": "stdout",
     "output_type": "stream",
     "text": [
      "1\n",
      "2\n",
      "3\n",
      "4\n",
      "5\n",
      "6\n",
      "7\n",
      "8\n",
      "9\n",
      "10\n"
     ]
    }
   ],
   "source": [
    "for i in range(1,11):\n",
    "    print(i)"
   ]
  },
  {
   "cell_type": "markdown",
   "metadata": {},
   "source": [
    "truth tables\n",
    "\n",
    " - AND: 1 1\n",
    " - OR: 0 1, 1 0, 1 1\n",
    " - XOR: 0 0, 1 1\n",
    " - NOT: 0\n",
    "\n",
    " - length: number of characters in a string\n",
    "\n",
    " - concatenation: combining two things\n",
    "\n",
    " - upper/Lower: change case\n",
    "\n",
    " - traversing Strings: use index\n",
    "\n",
    " - if: do an action when something is true\n",
    "\n",
    " - elif: first condition false, test another\n",
    "\n",
    " - else: action when first condition false\n",
    "\n",
    " - nested selection: condition inside condition"
   ]
  },
  {
   "cell_type": "code",
   "execution_count": 6,
   "metadata": {},
   "outputs": [
    {
     "name": "stdout",
     "output_type": "stream",
     "text": [
      "blue\n"
     ]
    }
   ],
   "source": [
    "import random\n",
    "\n",
    "colorspinner =  random.randint(1,8)\n",
    "\n",
    "if colorspinner <= 3:\n",
    "    print(\"green\")\n",
    "elif colorspinner <= 5:\n",
    "    print(\"blue\")\n",
    "elif colorspinner <= 6:\n",
    "    print(\"purple\")\n",
    "elif colorspinner <= 7:\n",
    "    print(\"red\")\n",
    "else:\n",
    "    print(\"orange\")"
   ]
  },
  {
   "cell_type": "code",
   "execution_count": 8,
   "metadata": {},
   "outputs": [
    {
     "name": "stdout",
     "output_type": "stream",
     "text": [
      "review notes\n",
      "do practice problems\n",
      "ask teacher questions\n"
     ]
    }
   ],
   "source": [
    "tasks = [\"review notes\", \"do practice problems\", \"ask teacher questions\"]\n",
    "for task in tasks:\n",
    " print(task)"
   ]
  },
  {
   "cell_type": "markdown",
   "metadata": {},
   "source": [
    " - def: defining a function to do a procedure\n",
    "\n",
    " - parameters: values given to a function to work with\n",
    "\n",
    " - return: brings variables out of function after running"
   ]
  },
  {
   "cell_type": "code",
   "execution_count": 10,
   "metadata": {},
   "outputs": [
    {
     "name": "stdout",
     "output_type": "stream",
     "text": [
      " My birthday is October 29th\n"
     ]
    }
   ],
   "source": [
    "def birthday_funct():\n",
    "    print(\" My birthday is October 29th\")\n",
    "\n",
    "birthday_funct()"
   ]
  }
 ],
 "metadata": {
  "kernelspec": {
   "display_name": "Python 3",
   "language": "python",
   "name": "python3"
  },
  "language_info": {
   "codemirror_mode": {
    "name": "ipython",
    "version": 3
   },
   "file_extension": ".py",
   "mimetype": "text/x-python",
   "name": "python",
   "nbconvert_exporter": "python",
   "pygments_lexer": "ipython3",
   "version": "3.8.10 (default, Jun 22 2022, 20:18:18) \n[GCC 9.4.0]"
  },
  "orig_nbformat": 4,
  "vscode": {
   "interpreter": {
    "hash": "916dbcbb3f70747c44a77c7bcd40155683ae19c65e1c03b4aa3499c5328201f1"
   }
  }
 },
 "nbformat": 4,
 "nbformat_minor": 2
}
