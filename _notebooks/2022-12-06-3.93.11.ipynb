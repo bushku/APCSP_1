{
 "cells": [
  {
   "cell_type": "code",
   "execution_count": null,
   "metadata": {},
   "outputs": [],
   "source": [
    "Three components of an algorithm:\n",
    " - sequence\n",
    " - selection\n",
    " - Iteration\n",
    "It is important to know that algorithms can be written in different ways in a way they can do the same thing because there are different ways for an algorithm to do the same thing.\n",
    "It is important to know that  "
   ]
  },
  {
   "cell_type": "code",
   "execution_count": 2,
   "metadata": {},
   "outputs": [
    {
     "name": "stdout",
     "output_type": "stream",
     "text": [
      "What Grade Did You Get?\n",
      "Nice!\n"
     ]
    }
   ],
   "source": [
    "## Examples\n",
    "print(\"What Grade Did You Get?\")\n",
    "grade = int(input(79))\n",
    "if grade >= 95:\n",
    "        print(\"Wow! Good job!\")\n",
    "if 70 <= grade < 95:\n",
    "        print(\"Nice!\")\n",
    "elif grade < 70:\n",
    "        print(\"Do Better\")"
   ]
  },
  {
   "cell_type": "code",
   "execution_count": null,
   "metadata": {},
   "outputs": [],
   "source": [
    "## How Nested Conditionals are Related to Boolean Expressions\n",
    "The following 2 pieces of code are supposed to print \"don't go to school\" unless:\n"
   ]
  },
  {
   "cell_type": "code",
   "execution_count": null,
   "metadata": {},
   "outputs": [],
   "source": [
    "# setting variables here\n",
    "isHoliday = False\n",
    "isWeekday = True\n",
    "\n",
    "#if holiday, dont go to school\n",
    "if isHoliday == True:\n",
    "    print(\"don't go to school!\")\n",
    "\n",
    "# otherwise, if it is a weekday, go to school\n",
    "else:\n",
    "    if isWeekday == True:\n",
    "        print(\"go to school!\")\n",
    "    # but if it is neither a weekday or holiday, don't go to school\n",
    "    else:\n",
    "        print(\"don't go to school\")"
   ]
  },
  {
   "cell_type": "code",
   "execution_count": null,
   "metadata": {},
   "outputs": [],
   "source": [
    "## Developing Algorithms\n",
    "When creating an algorithm, it is extremely important to outline the process before coding."
   ]
  }
 ],
 "metadata": {
  "kernelspec": {
   "display_name": "Python 3.8.10 64-bit",
   "language": "python",
   "name": "python3"
  },
  "language_info": {
   "codemirror_mode": {
    "name": "ipython",
    "version": 3
   },
   "file_extension": ".py",
   "mimetype": "text/x-python",
   "name": "python",
   "nbconvert_exporter": "python",
   "pygments_lexer": "ipython3",
   "version": "3.8.10"
  },
  "orig_nbformat": 4,
  "vscode": {
   "interpreter": {
    "hash": "916dbcbb3f70747c44a77c7bcd40155683ae19c65e1c03b4aa3499c5328201f1"
   }
  }
 },
 "nbformat": 4,
 "nbformat_minor": 2
}
