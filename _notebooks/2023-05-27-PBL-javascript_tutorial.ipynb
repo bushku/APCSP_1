{
 "cells": [
  {
   "attachments": {},
   "cell_type": "markdown",
   "metadata": {},
   "source": [
    "# JavaScript Tutorial\n",
    "> Quick launch into Variables, Functions, Arrays, Classes, HTML.\n",
    "\n",
    "- layout: default\n",
    "- badges: false\n",
    "- permalink: /techtalk/javascript\n",
    "- image: /images/javascript.png\n",
    "- categories: [1.A, 3.B, C4.0]\n",
    "- type: pbl\n",
    "- week: 33"
   ]
  },
  {
   "attachments": {},
   "cell_type": "markdown",
   "metadata": {},
   "source": [
    "{% include nav_frontend.html %}"
   ]
  },
  {
   "attachments": {},
   "cell_type": "markdown",
   "metadata": {},
   "source": [
    "## JavaScript and Jupyter references\n",
    "> JavaScript is the most important language you need to learn as a frontend developer.  Jupyter Notebooks is a convenient way to learn the language without the overhead of creating a full Website.  Jupyter Notebooks had ChatGPT plugins to assist with design and troubleshooting problems.  This Notebook has colors on HTML pages that were designed with a dark mode background.\n",
    "\n",
    "- JavaScript / Jupyter General References\n",
    "    - [W3Schools JS Reference](https://www.w3schools.com/js/)\n",
    "    - ChatGPT AI assistant for [Chrome/Jupyter](https://chrome.google.com/webstore/detail/chatgpt-jupyter-ai-assist/dlipncbkjmjjdpgcnodkbdobkadiejll) \n",
    "    - Theme setup for Jupyter [Article](https://linuxhint.com/change-theme-jupyter-notebook/).  Or do these commands from shell...\n",
    "        - Install pip: pip install jupyterthemes\n",
    "        - Revert to original theme: jt -r \n",
    "        - List themes: jt -l\n",
    "        - Install with Theme, Name, Logo: jt -t onedork -T -N -kl\n",
    "    - [Chrome Dev Tools](https://developer.chrome.com/docs/devtools/)\n",
    "\n",
    "- Coding with jQuery\n",
    "    - Jupyter Notebook [GitHub](https://github.com/nighthawkcoders/APCSP/blob/master/_notebooks/2022-09-19-PBL-javascript_tutorial.ipynb), wget: https://raw.githubusercontent.com/nighthawkcoders/APCSP/master/_notebooks/2022-09-19-PBL-javascript_tutorial.ipynb\n",
    "    - Markdown [Fetch example](https://nighthawkcoders.github.io/APCSP/frontend/jquery) in GitHub project for [APCSP](https://github.com/nighthawkcoders/APCSP/blob/master/_posts/2023-06-01-jquery-sort.md)\n",
    "    - HTML [Static example](https://flask.nighthawkcodingsociety.com/table/) in GitHub project for [flask_portfolio](https://github.com/nighthawkcoders/flask_portfolio/blob/main/templates/table.html)\n",
    " \n"
   ]
  },
  {
   "attachments": {},
   "cell_type": "markdown",
   "metadata": {},
   "source": [
    "### output using HTML and CSS\n",
    " Multiple cells are used to setup HTML in this lesson. Many of the JavaScript cells will use the output tag(s) to write into the HTML that has been setup.  \n",
    "- %%html is used to setup HTML code block\n",
    "- \"style\" tag enables visuals customization\n",
    "- \"div\" tag is setup to receive data"
   ]
  },
  {
   "cell_type": "code",
   "execution_count": 45,
   "metadata": {
    "vscode": {
     "languageId": "javascript"
    }
   },
   "outputs": [
    {
     "data": {
      "text/html": [
       "<html>\n",
       "    <head>\n",
       "        <style>\n",
       "            #output {\n",
       "                background-color: #353b45;\n",
       "                padding: 10px;\n",
       "                border: 3px solid #ccc;\n",
       "            }\n",
       "        </style>\n",
       "    </head>\n",
       "    <body>\n",
       "        <div id=\"output\">\n",
       "            A lot about living and a little about love.\n",
       "        </div>\n",
       "    </body>\n",
       "</html>\n"
      ],
      "text/plain": [
       "<IPython.core.display.HTML object>"
      ]
     },
     "metadata": {},
     "output_type": "display_data"
    }
   ],
   "source": [
    "%%html\n",
    "<html>\n",
    "    <head>\n",
    "        <style>\n",
    "            #output {\n",
    "                background-color: #353b45;\n",
    "                padding: 10px;\n",
    "                border: 3px solid #ccc;\n",
    "            }\n",
    "        </style>\n",
    "    </head>\n",
    "    <body>\n",
    "        <div id=\"output\">\n",
    "            A lot about living and a little about love.\n",
    "        </div>\n",
    "    </body>\n",
    "</html>"
   ]
  },
  {
   "attachments": {},
   "cell_type": "markdown",
   "metadata": {},
   "source": [
    "### output explored\n",
    "There are several ways to ouput the classic introduction message: \"Hello, World!\" \n",
    "- Before you go further, open Console on your Browser. <mark>JavaScript developer leaves Console open</mark> all the time!!!\n",
    "- The function <mark>console.log()</mark> outputs to Console, this is often used for inspection or debugging.\n",
    "- \"Hello, World\" is a String literal. This is the referred to as <mark>Static text</mark>, as it does not change.  Developer call this a <mark>hard coded string</mark>.\n",
    "- <mark>\"Hello, World\" literal is a parameter</mark> to console.log(), element.txt() and alert().\n",
    "- The element.txt function is part of <mark>Jupyter Notebook %%js magic</mark>.  This is convenient for Notebook and testing.\n",
    "- The <mark>alert command outputs the parameter to a dialog box</mark>, so you can see it in this Jupyter notebook. The alert commands are shown, but are commented out as the stop run all execution of the notebook.\n",
    "- Note, in a Web Application Debugging: An alert is often used for less savy Developers. Console is used by more savy developers; console often requires setting up a lot of outputs. Source level debugging is the most powerful solution for debugging and does not require alert or console commands."
   ]
  },
  {
   "cell_type": "code",
   "execution_count": 44,
   "metadata": {
    "vscode": {
     "languageId": "javascript"
    }
   },
   "outputs": [
    {
     "data": {
      "application/javascript": "console.log(\"JavaScript/Jupyter Output Intro\");\n\n// Browser Console output; debugging or tracing\nconsole.log(\"A lot about living and a little bout love\");\nconsole.log(\"Way down yonder on the chattahooche\");\n\n// Document Object Model (DOM) output; output to HTML, CSS which is standard for a Web Page\n// <mark>select element method</mark>: DOM native JavaScript get, document.getElementByID\ndocument.getElementById(\"output\").textContent = \"A lot about living and a little bout love\";\n// <mark>jQuery CSS-style method</mark>: Tag for DOM selector, $('#output')\n$('#output').append('<br><b>Way down yonder on the chattahooche');  // br is break or new line, b is bold\n\n// Jupyter built in magic element for testing and convenience of development\nelement.text(\"A lot about living and a little bout love\"); // element is output option as part of %%js magic\nelement.append('<br><b>Way down yonder on the chattahooche');\n\n//alert(\"A lot about living and a little about love\");\n",
      "text/plain": [
       "<IPython.core.display.Javascript object>"
      ]
     },
     "metadata": {},
     "output_type": "display_data"
    }
   ],
   "source": [
    "%%js // required to allow cell to be JavaScript enabled\n",
    "console.log(\"JavaScript/Jupyter Output Intro\");\n",
    "\n",
    "// Browser Console output; debugging or tracing\n",
    "console.log(\"A lot about living and a little bout love\");\n",
    "console.log(\"Way down yonder on the chattahooche\");\n",
    "\n",
    "// Document Object Model (DOM) output; output to HTML, CSS which is standard for a Web Page\n",
    "// <mark>select element method</mark>: DOM native JavaScript get, document.getElementByID\n",
    "document.getElementById(\"output\").textContent = \"A lot about living and a little bout love\";\n",
    "// <mark>jQuery CSS-style method</mark>: Tag for DOM selector, $('#output')\n",
    "$('#output').append('<br><b>Way down yonder on the chattahooche');  // br is break or new line, b is bold\n",
    "\n",
    "// Jupyter built in magic element for testing and convenience of development\n",
    "element.text(\"A lot about living and a little bout love\"); // element is output option as part of %%js magic\n",
    "element.append('<br><b>Way down yonder on the chattahooche');\n",
    "\n",
    "//alert(\"A lot about living and a little about love\");"
   ]
  },
  {
   "attachments": {},
   "cell_type": "markdown",
   "metadata": {},
   "source": [
    "### multiple outputs using one variable\n",
    "This second example is a new <mark>sequence of code</mark>, two or more lines of code forms a sequence.  This example defines a variable, thank goodness!!! In the previous example we were typing the string `\"Hello, World\" over and over`.  Observe with the variable `msg=\"Hello, World!\";` we type the string once and now use `msg` over and over.\n",
    "- The variable \"var msg =\" is used to capture the data\n",
    "- The console.log(msg) outputs to console, be sure to Inspect it!\n",
    "- The element.text() is part of Jupyter Notebooks and displays as output blow the code on this page. Until we build up some more interesting data for Web Site, we will not use be using the Python HTML, CSS technique.\n",
    "- The alert(msg) works the same as previous, but as the other commands uses msg as parameter."
   ]
  },
  {
   "cell_type": "code",
   "execution_count": 43,
   "metadata": {
    "vscode": {
     "languageId": "shellscript"
    }
   },
   "outputs": [
    {
     "data": {
      "application/javascript": "console.log(\"Variable Definition\");\n\nvar msg = \"A lot about living and a little bout love\";\n\n// Use msg to output code to Console and Jupyter Notebook\nconsole.log(msg);  //right click browser select Inspect, then select Console to view\nelement.text(msg);\n//alert(msg);\n",
      "text/plain": [
       "<IPython.core.display.Javascript object>"
      ]
     },
     "metadata": {},
     "output_type": "display_data"
    }
   ],
   "source": [
    "%%js\n",
    "console.log(\"Variable Definition\");\n",
    "\n",
    "var msg = \"A lot about living and a little bout love\";\n",
    "\n",
    "// Use msg to output code to Console and Jupyter Notebook\n",
    "console.log(msg);  //right click browser select Inspect, then select Console to view\n",
    "element.text(msg);\n",
    "//alert(msg);\n"
   ]
  },
  {
   "attachments": {},
   "cell_type": "markdown",
   "metadata": {},
   "source": [
    "### output showing use of a function\n",
    "This example passes the defined variable \"msg\" to the newly defined \"function logIt(output)\".\n",
    "- There are multiple steps in this code..\n",
    "    - The \"definition of the function\": \"function logIt(output) {}\" and everything between curly braces is the definitions of the function. Passing a parameter is required when you call this function.\n",
    "    - The \"call to the function:\"logIt(msg)\" is the call to the function, this actually runs the function.  The variable \"msg\" is used a parameter when calling the logIt function.\n",
    "- Showing reuse of function...\n",
    "    - There are two calls to the logIt function\n",
    "    - This is called Prodedural Abstraction, a term that means reusing the same code"
   ]
  },
  {
   "cell_type": "code",
   "execution_count": 42,
   "metadata": {
    "vscode": {
     "languageId": "shellscript"
    }
   },
   "outputs": [
    {
     "data": {
      "application/javascript": "console.log(\"Function Definition\");\n\n/* Function: logIt\n * Parameter: output\n * Description: The parameter is \"output\" to console and jupyter page\n*/\nfunction logIt(output) {\n    console.log(output); \n    element.append(output + \"<br>\");\n    //alert(output);\n}\n\n// sequence calling logIt function\nvar msg = \"A lot about living\" // replaces content of variable\nvar classOf = \"and a little bout love.\"\nlogIt(msg + \"  \" + classOf); // concatenation of strings\n",
      "text/plain": [
       "<IPython.core.display.Javascript object>"
      ]
     },
     "metadata": {},
     "output_type": "display_data"
    }
   ],
   "source": [
    "%%js\n",
    "console.log(\"Function Definition\");\n",
    "\n",
    "/* Function: logIt\n",
    " * Parameter: output\n",
    " * Description: The parameter is \"output\" to console and jupyter page\n",
    "*/\n",
    "function logIt(output) {\n",
    "    console.log(output); \n",
    "    element.append(output + \"<br>\");\n",
    "    //alert(output);\n",
    "}\n",
    "\n",
    "// sequence calling logIt function\n",
    "var msg = \"A lot about living\" // replaces content of variable\n",
    "var classOf = \"and a little bout love.\"\n",
    "logIt(msg + \"  \" + classOf); // concatenation of strings"
   ]
  },
  {
   "attachments": {},
   "cell_type": "markdown",
   "metadata": {},
   "source": [
    "### output showing Loosely typed data\n",
    "<mark>JavaScript is a loosely typed language</mark>, meaning you don't have to specify what type of information will be stored in a variable in advance.  \n",
    "- To define a variable you prefix the name with <mark>var or const</mark>.   The variable type is determined by JavaScript at runtime.\n",
    "- Python and many interpretive languages are loosely typed like JavaScript.  This is considered programmer friendly.  \n",
    "- Java which is a compiled language is strongly typed, thus you will see terms like <mark>String, Integer, Double, and Object</mark> in the source code. \n",
    "- In JavaScript, the <mark>typeof keyword</mark> returns the type of the variable.  Become familiar with type as it is valuable in conversation and knowing type help you understand how to modify data.  Each variable type will have built in methods to manage content within the data type."
   ]
  },
  {
   "cell_type": "code",
   "execution_count": 41,
   "metadata": {
    "vscode": {
     "languageId": "shellscript"
    }
   },
   "outputs": [
    {
     "data": {
      "application/javascript": "console.log(\"Examine Data Types\");\n\n// Function to add typeof to output\nfunction getType(output) {\n    return typeof output + \": \" + output;\n}\n\n// Function defintion\nfunction logIt(output) {\n    console.log(getType(output));  // logs string\n    console.info(output);          // logs object\n    element.append(getType(output) + \"<br>\");  // adds to Jupyter output\n    //alert(getType(output));\n}\n\n// Common Types\nelement.append(\"Common Types <br>\");\nlogIt(\"Alan Jackson\"); // String\nlogIt(1997);    // Number\nlogIt(true);    // Boolean\nelement.append(\"<br>\");\n\n// Object Type, this definition is often called a array or list\nelement.append(\"Object Type, array <br>\");\nvar scores = [\n    90,\n    80, \n    100\n];  \nlogIt(scores);\nelement.append(\"<br>\");\n\n// Complex Object, this definition is often called hash, map, hashmap, or dictionary\nelement.append(\"Object Type, hash or dictionary <br>\");\nvar person = { // key:value pairs seperated by comma\n    \"name\": \"Alan Jackson\", \n    \"role\": \"Classic Country Music Singer\"\n}; \nlogIt(person);\nlogIt(JSON.stringify(person));  //method used to convert this object into readable format\n",
      "text/plain": [
       "<IPython.core.display.Javascript object>"
      ]
     },
     "metadata": {},
     "output_type": "display_data"
    }
   ],
   "source": [
    "%%js\n",
    "console.log(\"Examine Data Types\");\n",
    "\n",
    "// Function to add typeof to output\n",
    "function getType(output) {\n",
    "    return typeof output + \": \" + output;\n",
    "}\n",
    "\n",
    "// Function defintion\n",
    "function logIt(output) {\n",
    "    console.log(getType(output));  // logs string\n",
    "    console.info(output);          // logs object\n",
    "    element.append(getType(output) + \"<br>\");  // adds to Jupyter output\n",
    "    //alert(getType(output));\n",
    "}\n",
    "\n",
    "// Common Types\n",
    "element.append(\"Common Types <br>\");\n",
    "logIt(\"Alan Jackson\"); // String\n",
    "logIt(1997);    // Number\n",
    "logIt(true);    // Boolean\n",
    "element.append(\"<br>\");\n",
    "\n",
    "// Object Type, this definition is often called a array or list\n",
    "element.append(\"Object Type, array <br>\");\n",
    "var scores = [\n",
    "    90,\n",
    "    80, \n",
    "    100\n",
    "];  \n",
    "logIt(scores);\n",
    "element.append(\"<br>\");\n",
    "\n",
    "// Complex Object, this definition is often called hash, map, hashmap, or dictionary\n",
    "element.append(\"Object Type, hash or dictionary <br>\");\n",
    "var person = { // key:value pairs seperated by comma\n",
    "    \"name\": \"Alan Jackson\", \n",
    "    \"role\": \"Classic Country Music Singer\"\n",
    "}; \n",
    "logIt(person);\n",
    "logIt(JSON.stringify(person));  //method used to convert this object into readable format"
   ]
  },
  {
   "attachments": {},
   "cell_type": "markdown",
   "metadata": {},
   "source": [
    "### Build a Person object and JSON\n",
    "JavaScript and other languages have special properties and syntax to store and represent data.  In fact, a class in JavaScript is a special function.\n",
    "\n",
    "- <mark>Definition of class allows for a collection of data</mark>, the \"class Person\" allows programmer to retain name, github id, and class of a Person.\n",
    "- <mark>Instance of a class</mark>, the \"const teacher = new Person(\"Mr M\", \"jm1021\", 1977)\" makes an object \"teacher\" which is an object representation of \"class Person\".\n",
    "- <mark>Setting and Getting properties</mark> After creating teacher and student objects, observe that properties can be changed/muted or extracted/accessed."
   ]
  },
  {
   "cell_type": "code",
   "execution_count": 40,
   "metadata": {
    "vscode": {
     "languageId": "javascript"
    }
   },
   "outputs": [
    {
     "data": {
      "text/html": [
       "<!-- load jQuery and tablesorter scripts -->\n",
       "<html>\n",
       "    <head>\n",
       "        <!-- load jQuery and tablesorter scripts -->\n",
       "        <script src=\"https://ajax.googleapis.com/ajax/libs/jquery/3.6.0/jquery.min.js\"></script>\n",
       "        <script src=\"https://cdnjs.cloudflare.com/ajax/libs/jquery.tablesorter/2.31.3/js/jquery.tablesorter.min.js\"></script>\n",
       "        <style>\n",
       "            /* CSS-style selector maps to table id or other id's in HTML */\n",
       "            #jsonTable, #flaskTable {\n",
       "                background-color: #353b45;\n",
       "                padding: 10px;\n",
       "                border: 3px solid #ccc;\n",
       "                box-shadow: 0.8em 0.4em 0.4em grey;\n",
       "                color: #fff;\n",
       "            }\n",
       "        </style>\n",
       "    </head>\n",
       "\n",
       "    <body>\n",
       "        <!-- Table for writing and extracting jsonText -->\n",
       "        <table id=\"jsonTable\">\n",
       "            <thead>\n",
       "                <tr>\n",
       "                    <th>Classroom JSON Data</th>\n",
       "                </tr>\n",
       "            </thead>\n",
       "            <tbody>\n",
       "                <tr>\n",
       "                    <td id=\"jsonText\">{\n",
       "                        \"songs\": [\n",
       "                          {\n",
       "                            \"name\": \"Would You go With Me\",\n",
       "                            \"singer\": \"Josh Turner\",\n",
       "                            \"year\": 2006\n",
       "                            ]\n",
       "                          },\n",
       "                          {\n",
       "                            \"name\": \"Brown Chicken Brown Cow\",\n",
       "                            \"singer\": \"Trace Adkins\",\n",
       "                            \"year\": \"2010\"\n",
       "                            ]\n",
       "                          },\n",
       "                          {\n",
       "                            \"name\": \"Just Give Me A Reason\",\n",
       "                            \"singer\": \"P!nk\",\n",
       "                            \"year\": 2012\n",
       "                          }\n",
       "                        ]\n",
       "                      }\n",
       "                      </td>\n",
       "                </tr>\n",
       "            </tbody>\n",
       "        </table>\n",
       "\n",
       "    </body>\n",
       "</html>\n"
      ],
      "text/plain": [
       "<IPython.core.display.HTML object>"
      ]
     },
     "metadata": {},
     "output_type": "display_data"
    }
   ],
   "source": [
    "%%html\n",
    "<!-- load jQuery and tablesorter scripts -->\n",
    "<html>\n",
    "    <head>\n",
    "        <!-- load jQuery and tablesorter scripts -->\n",
    "        <script src=\"https://ajax.googleapis.com/ajax/libs/jquery/3.6.0/jquery.min.js\"></script>\n",
    "        <script src=\"https://cdnjs.cloudflare.com/ajax/libs/jquery.tablesorter/2.31.3/js/jquery.tablesorter.min.js\"></script>\n",
    "        <style>\n",
    "            /* CSS-style selector maps to table id or other id's in HTML */\n",
    "            #jsonTable, #flaskTable {\n",
    "                background-color: #353b45;\n",
    "                padding: 10px;\n",
    "                border: 3px solid #ccc;\n",
    "                box-shadow: 0.8em 0.4em 0.4em grey;\n",
    "                color: #fff;\n",
    "            }\n",
    "        </style>\n",
    "    </head>\n",
    "\n",
    "    <body>\n",
    "        <!-- Table for writing and extracting jsonText -->\n",
    "        <table id=\"jsonTable\">\n",
    "            <thead>\n",
    "                <tr>\n",
    "                    <th>Classroom JSON Data</th>\n",
    "                </tr>\n",
    "            </thead>\n",
    "            <tbody>\n",
    "                <tr>\n",
    "                    <td id=\"jsonText\">{\n",
    "                        \"songs\": [\n",
    "                          {\n",
    "                            \"name\": \"Would You go With Me\",\n",
    "                            \"singer\": \"Josh Turner\",\n",
    "                            \"year\": 2006\n",
    "                            ]\n",
    "                          },\n",
    "                          {\n",
    "                            \"name\": \"Brown Chicken Brown Cow\",\n",
    "                            \"singer\": \"Trace Adkins\",\n",
    "                            \"year\": \"2010\"\n",
    "                            ]\n",
    "                          },\n",
    "                          {\n",
    "                            \"name\": \"Just Give Me A Reason\",\n",
    "                            \"singer\": \"P!nk\",\n",
    "                            \"year\": 2012\n",
    "                          }\n",
    "                        ]\n",
    "                      }\n",
    "                      </td>\n",
    "                </tr>\n",
    "            </tbody>\n",
    "        </table>\n",
    "\n",
    "    </body>\n",
    "</html>"
   ]
  },
  {
   "cell_type": "code",
   "execution_count": 39,
   "metadata": {
    "vscode": {
     "languageId": "html"
    }
   },
   "outputs": [
    {
     "data": {
      "application/javascript": "class Song {\n  constructor(name, singer, year) {\n    this.name = name;\n    this.singer = singer;\n    this.year = year;\n  }\n\n  getJSON() {\n    const obj = {\n      name: this.name,\n      singer: this.singer,\n      year: this.year\n    };\n    const json = JSON.stringify(obj);\n    return json;\n  }\n\n  logIt() {\n    console.info(this);\n    element.append(this.getJSON());\n  }\n}\n\n// Example usage:\nconst songData = {\n  name: \"Would You Go With Me\",\n  singer: \"Josh Turner\",\n  year: 2006\n};\n\nconst song = new Song(\n  songData.name,\n  songData.singer,\n  songData.year\n);\n\nsong.logIt();\n",
      "text/plain": [
       "<IPython.core.display.Javascript object>"
      ]
     },
     "metadata": {},
     "output_type": "display_data"
    }
   ],
   "source": [
    "%%js\n",
    "class Song {\n",
    "  constructor(name, singer, year) {\n",
    "    this.name = name;\n",
    "    this.singer = singer;\n",
    "    this.year = year;\n",
    "  }\n",
    "\n",
    "  getJSON() {\n",
    "    const obj = {\n",
    "      name: this.name,\n",
    "      singer: this.singer,\n",
    "      year: this.year\n",
    "    };\n",
    "    const json = JSON.stringify(obj);\n",
    "    return json;\n",
    "  }\n",
    "\n",
    "  logIt() {\n",
    "    console.info(this);\n",
    "    element.append(this.getJSON());\n",
    "  }\n",
    "}\n",
    "\n",
    "// Example usage:\n",
    "const songData = {\n",
    "  name: \"Would You Go With Me\",\n",
    "  singer: \"Josh Turner\",\n",
    "  year: 2006\n",
    "};\n",
    "\n",
    "const song = new Song(\n",
    "  songData.name,\n",
    "  songData.singer,\n",
    "  songData.year\n",
    ");\n",
    "\n",
    "song.logIt();\n"
   ]
  },
  {
   "attachments": {},
   "cell_type": "markdown",
   "metadata": {},
   "source": [
    "<html>\n",
    "<head>\n",
    "    <!-- Load jQuery and DataTables style and scripts -->\n",
    "    <link rel=\"stylesheet\" type=\"text/css\" href=\"https://cdn.datatables.net/1.10.25/css/jquery.dataTables.min.css\">\n",
    "    <script type=\"text/javascript\" language=\"javascript\" src=\"https://code.jquery.com/jquery-3.6.0.min.js\"></script>\n",
    "    <script type=\"text/javascript\" language=\"javascript\" src=\"https://cdn.datatables.net/1.10.25/js/jquery.dataTables.min.js\"></script>\n",
    "</head>\n",
    "<body>\n",
    "    <table id=\"flaskTable\" class=\"table\" style=\"width:100%\">\n",
    "        <thead id=\"flaskHead\">\n",
    "            <tr>\n",
    "                <th>Title</th>\n",
    "                <th>Artist</th>\n",
    "                <th>Year</th>\n",
    "            </tr>\n",
    "        </thead>\n",
    "        <tbody id=\"flaskBody\"></tbody>\n",
    "    </table>\n",
    "\n",
    "    <script>\n",
    "        // Define the Song class\n",
    "        class Song {\n",
    "            constructor(title, artist, year) {\n",
    "                this.title = title;\n",
    "                this.artist = artist;\n",
    "                this.year = year;\n",
    "            }\n",
    "        }\n",
    "\n",
    "        $(document).ready(() => {\n",
    "            // Example data\n",
    "            const songs = [\n",
    "                new Song(\"Would You go With Me\", \"Josh Turner\", 2006),\n",
    "                new Song(\"Brown Chicken Brown Cow\", \"Trace Adkins\", 2010),\n",
    "                new Song(\"Just Give Me A Reason\", \"P!nk\", 2012)\n",
    "            ];\n",
    "\n",
    "            // Get the table body element\n",
    "            const tableBody = document.getElementById(\"flaskBody\");\n",
    "\n",
    "            // Function to populate the table\n",
    "            function populateTable(data) {\n",
    "                // Clear any existing rows\n",
    "                tableBody.innerHTML = \"\";\n",
    "\n",
    "                // Create a row for each song\n",
    "                data.forEach(song => {\n",
    "                    const row = document.createElement(\"tr\");\n",
    "                    row.innerHTML = `<td>${song.title}</td><td>${song.artist}</td><td>${song.year}</td>`;\n",
    "                    tableBody.appendChild(row);\n",
    "                });\n",
    "            }\n",
    "\n",
    "            // Call the function with the song data to populate the table\n",
    "            populateTable(songs);\n",
    "\n",
    "            // Initialize DataTables plugin\n",
    "            $('#flaskTable').DataTable();\n",
    "        });\n",
    "    </script>\n",
    "</body>\n",
    "</html>\n"
   ]
  },
  {
   "attachments": {},
   "cell_type": "markdown",
   "metadata": {},
   "source": [
    "## Hacks\n",
    "> One key to these hacks is to build confidence with me going into final grade, I would like to see each student adapt this frontend work in their final project.  Second key is the finished work can serve as review for the course, notes for the future in relationship to frontend.\n",
    "- Adapt this tutorial to your own work\n",
    "- Consider what you need to work on to be stronger developer\n",
    "- Show something creative or unique, no cloning\n",
    "- Be ready to talk to Teacher for 5 to 10 minutes. Individually!!!\n",
    "- Show in Jupyter Notebook during discussion, show Theme and ChatGPT\n",
    "- Have a runtime final in GithHub Pages (or Fastpage)"
   ]
  }
 ],
 "metadata": {
  "kernelspec": {
   "display_name": "base",
   "language": "python",
   "name": "python3"
  },
  "language_info": {
   "codemirror_mode": {
    "name": "ipython",
    "version": 3
   },
   "file_extension": ".py",
   "mimetype": "text/x-python",
   "name": "python",
   "nbconvert_exporter": "python",
   "pygments_lexer": "ipython3",
   "version": "3.9.12"
  }
 },
 "nbformat": 4,
 "nbformat_minor": 2
}
