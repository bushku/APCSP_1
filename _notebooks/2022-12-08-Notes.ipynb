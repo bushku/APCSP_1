{
 "cells": [
  {
   "cell_type": "markdown",
   "metadata": {},
   "source": [
    "# 3.11 and 3.12 Hacks\n",
    "> These are my 3.11 and 3.12 Hacks."
   ]
  },
  {
   "cell_type": "markdown",
   "metadata": {},
   "source": [
    "## Hack 1"
   ]
  },
  {
   "cell_type": "code",
   "execution_count": null,
   "metadata": {},
   "outputs": [],
   "source": [
    "Procedure: named set of instructions that can take in parameters and return values\n",
    "Paremeter: independent variables used in procedure to achieve result\n",
    "Procedures can be classified as sequence, selection, and iteration\n",
    "\n",
    "## Calling Procedure\n",
    " - To call a procedure, \n",
    "\n",
    "## Result of Procedure\n",
    " - To determine the result of the procedure, you have to read the code line by line and see what each line of code does"
   ]
  },
  {
   "cell_type": "code",
   "execution_count": 2,
   "metadata": {},
   "outputs": [
    {
     "name": "stdout",
     "output_type": "stream",
     "text": [
      "Question: What is are correct names for a procedure? \n",
      " A) Method \n",
      " B) Function \n",
      " C) Both\n",
      "Answer: c\n",
      "Correct :) \n",
      "\n",
      "Question: What is a procedure? \n",
      " A) Sequencing \n",
      " B) Selection \n",
      " C) Iteration \n",
      " D) All\n",
      "Answer: d\n",
      "Correct :) \n",
      "\n",
      "Question: Use this for following question: \n",
      " def inchesToFeet(lengthInches): \n",
      "\t lengthFeet = lengthInches / 12 \n",
      "\t return lengthFeet \n",
      "\n",
      " What is the procedure name, the parameter, and what the procedure returns? \n",
      " A) feetToInches, lengthInches, lengthMeters \n",
      " B) inchesToFeet, lengthInches, lengthFeet \n",
      " C) inchesToFeet, lengthFeet, lengthInches \n",
      " D) lengthInches, inchesToFeet, lengthFeet\n",
      "Answer: b\n",
      "Correct :) \n",
      "\n",
      "Score: 3 / 3\n"
     ]
    }
   ],
   "source": [
    "questionNum = 3\n",
    "correct = 0\n",
    "questions = [\n",
    "    \"What is are correct names for a procedure? \\n A) Method \\n B) Function \\n C) Both\",\n",
    "    \"What is a procedure? \\n A) Sequencing \\n B) Selection \\n C) Iteration \\n D) All\",\n",
    "    \"Use this for following question: \\n def inchesToFeet(lengthInches): \\n\\t lengthFeet = lengthInches / 12 \\n\\t return lengthFeet \\n\\n What is the procedure name, the parameter, and what the procedure returns? \\n A) feetToInches, lengthInches, lengthMeters \\n B) inchesToFeet, lengthInches, lengthFeet \\n C) inchesToFeet, lengthFeet, lengthInches \\n D) lengthInches, inchesToFeet, lengthFeet\"]\n",
    "answers = [\"c\", \"d\", \"b\"]\n",
    "\n",
    "def qna(question, answer):\n",
    "    print(\"Question:\", question)\n",
    "    response = input()\n",
    "    print(\"Answer:\", response)\n",
    "    \n",
    "    if response.lower() == answer:\n",
    "        print(\"Correct :) \\n\")\n",
    "        global correct\n",
    "        correct += 1\n",
    "    else:\n",
    "        print(\"Incorrect :( \\n\")\n",
    "for x in range(questionNum):\n",
    "    qna(questions[x], answers[x])\n",
    "    \n",
    "print(\"Score:\", correct, \"/ 3\")"
   ]
  },
  {
   "cell_type": "markdown",
   "metadata": {},
   "source": [
    "Return values: exits function and directs python to continue to execute the program to return a certain value\n",
    "Output Parameters: parameters passed to get an output of a function/procedure "
   ]
  },
  {
   "cell_type": "code",
   "execution_count": 12,
   "metadata": {},
   "outputs": [
    {
     "ename": "NameError",
     "evalue": "name 'sqrt' is not defined",
     "output_type": "error",
     "traceback": [
      "\u001b[0;31m---------------------------------------------------------------------------\u001b[0m",
      "\u001b[0;31mNameError\u001b[0m                                 Traceback (most recent call last)",
      "\u001b[0;32m<ipython-input-12-fc7af389b46a>\u001b[0m in \u001b[0;36m<module>\u001b[0;34m\u001b[0m\n\u001b[1;32m      3\u001b[0m     \u001b[0mFeet\u001b[0m \u001b[0;34m=\u001b[0m \u001b[0msqrt\u001b[0m\u001b[0;34m(\u001b[0m\u001b[0minches\u001b[0m\u001b[0;34m)\u001b[0m\u001b[0;34m\u001b[0m\u001b[0;34m\u001b[0m\u001b[0m\n\u001b[1;32m      4\u001b[0m     \u001b[0;32mreturn\u001b[0m \u001b[0mFeet\u001b[0m\u001b[0;34m\u001b[0m\u001b[0;34m\u001b[0m\u001b[0m\n\u001b[0;32m----> 5\u001b[0;31m \u001b[0mresult\u001b[0m \u001b[0;34m=\u001b[0m \u001b[0mInchestoFeet\u001b[0m\u001b[0;34m(\u001b[0m\u001b[0;36m144\u001b[0m\u001b[0;34m)\u001b[0m\u001b[0;34m\u001b[0m\u001b[0;34m\u001b[0m\u001b[0m\n\u001b[0m\u001b[1;32m      6\u001b[0m \u001b[0mprint\u001b[0m\u001b[0;34m(\u001b[0m\u001b[0mresult\u001b[0m\u001b[0;34m)\u001b[0m\u001b[0;34m\u001b[0m\u001b[0;34m\u001b[0m\u001b[0m\n",
      "\u001b[0;32m<ipython-input-12-fc7af389b46a>\u001b[0m in \u001b[0;36mInchestoFeet\u001b[0;34m(inches)\u001b[0m\n\u001b[1;32m      1\u001b[0m \u001b[0;32mdef\u001b[0m \u001b[0mInchestoFeet\u001b[0m\u001b[0;34m(\u001b[0m\u001b[0minches\u001b[0m\u001b[0;34m)\u001b[0m\u001b[0;34m:\u001b[0m\u001b[0;34m\u001b[0m\u001b[0;34m\u001b[0m\u001b[0m\n\u001b[1;32m      2\u001b[0m     \u001b[0mFeet\u001b[0m \u001b[0;34m=\u001b[0m \u001b[0;36m0\u001b[0m\u001b[0;34m\u001b[0m\u001b[0;34m\u001b[0m\u001b[0m\n\u001b[0;32m----> 3\u001b[0;31m     \u001b[0mFeet\u001b[0m \u001b[0;34m=\u001b[0m \u001b[0msqrt\u001b[0m\u001b[0;34m(\u001b[0m\u001b[0minches\u001b[0m\u001b[0;34m)\u001b[0m\u001b[0;34m\u001b[0m\u001b[0;34m\u001b[0m\u001b[0m\n\u001b[0m\u001b[1;32m      4\u001b[0m     \u001b[0;32mreturn\u001b[0m \u001b[0mFeet\u001b[0m\u001b[0;34m\u001b[0m\u001b[0;34m\u001b[0m\u001b[0m\n\u001b[1;32m      5\u001b[0m \u001b[0mresult\u001b[0m \u001b[0;34m=\u001b[0m \u001b[0mInchestoFeet\u001b[0m\u001b[0;34m(\u001b[0m\u001b[0;36m144\u001b[0m\u001b[0;34m)\u001b[0m\u001b[0;34m\u001b[0m\u001b[0;34m\u001b[0m\u001b[0m\n",
      "\u001b[0;31mNameError\u001b[0m: name 'sqrt' is not defined"
     ]
    }
   ],
   "source": [
    "def InchestoFeet(inches):\n",
    "    Feet = 0\n",
    "    Feet = sqrt(inches)\n",
    "    return Feet\n",
    "result = InchestoFeet(144)\n",
    "print(result)"
   ]
  }
 ],
 "metadata": {
  "kernelspec": {
   "display_name": "Python 3",
   "language": "python",
   "name": "python3"
  },
  "language_info": {
   "codemirror_mode": {
    "name": "ipython",
    "version": 3
   },
   "file_extension": ".py",
   "mimetype": "text/x-python",
   "name": "python",
   "nbconvert_exporter": "python",
   "pygments_lexer": "ipython3",
   "version": "3.8.10"
  },
  "orig_nbformat": 4,
  "vscode": {
   "interpreter": {
    "hash": "916dbcbb3f70747c44a77c7bcd40155683ae19c65e1c03b4aa3499c5328201f1"
   }
  }
 },
 "nbformat": 4,
 "nbformat_minor": 2
}
