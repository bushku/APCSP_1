{
 "cells": [
  {
   "cell_type": "markdown",
   "metadata": {},
   "source": [
    "# 3.11 and 3.12 Hacks\n",
    "> These are my 3.11 and 3.12 Hacks."
   ]
  },
  {
   "cell_type": "markdown",
   "metadata": {},
   "source": [
    "## Hack 1"
   ]
  },
  {
   "cell_type": "markdown",
   "metadata": {},
   "source": [
    "Procedure: named set of instructions that can take in parameters and return values\n",
    "Paremeter: independent variables used in procedure to achieve result\n",
    "Procedures can be classified as sequence, selection, and iteration"
   ]
  },
  {
   "cell_type": "code",
   "execution_count": 2,
   "metadata": {},
   "outputs": [
    {
     "name": "stdout",
     "output_type": "stream",
     "text": [
      "Question: What is are correct names for a procedure? \n",
      " A) Method \n",
      " B) Function \n",
      " C) Both\n",
      "Answer: c\n",
      "Correct :) \n",
      "\n",
      "Question: What is a procedure? \n",
      " A) Sequencing \n",
      " B) Selection \n",
      " C) Iteration \n",
      " D) All\n",
      "Answer: d\n",
      "Correct :) \n",
      "\n",
      "Question: Use this for following question: \n",
      " def inchesToFeet(lengthInches): \n",
      "\t lengthFeet = lengthInches / 12 \n",
      "\t return lengthFeet \n",
      "\n",
      " What is the procedure name, the parameter, and what the procedure returns? \n",
      " A) feetToInches, lengthInches, lengthMeters \n",
      " B) inchesToFeet, lengthInches, lengthFeet \n",
      " C) inchesToFeet, lengthFeet, lengthInches \n",
      " D) lengthInches, inchesToFeet, lengthFeet\n",
      "Answer: b\n",
      "Correct :) \n",
      "\n",
      "Score: 3 / 3\n"
     ]
    }
   ],
   "source": [
    "questionNum = 3\n",
    "correct = 0\n",
    "questions = [\n",
    "    \"What is are correct names for a procedure? \\n A) Method \\n B) Function \\n C) Both\",\n",
    "    \"What is a procedure? \\n A) Sequencing \\n B) Selection \\n C) Iteration \\n D) All\",\n",
    "    \"Use this for following question: \\n def inchesToFeet(lengthInches): \\n\\t lengthFeet = lengthInches / 12 \\n\\t return lengthFeet \\n\\n What is the procedure name, the parameter, and what the procedure returns? \\n A) feetToInches, lengthInches, lengthMeters \\n B) inchesToFeet, lengthInches, lengthFeet \\n C) inchesToFeet, lengthFeet, lengthInches \\n D) lengthInches, inchesToFeet, lengthFeet\"]\n",
    "answers = [\"c\", \"d\", \"b\"]\n",
    "\n",
    "def qna(question, answer):\n",
    "    print(\"Question:\", question)\n",
    "    response = input()\n",
    "    print(\"Answer:\", response)\n",
    "    \n",
    "    if response.lower() == answer:\n",
    "        print(\"Correct :) \\n\")\n",
    "        global correct\n",
    "        correct += 1\n",
    "    else:\n",
    "        print(\"Incorrect :( \\n\")\n",
    "for x in range(questionNum):\n",
    "    qna(questions[x], answers[x])\n",
    "    \n",
    "print(\"Score:\", correct, \"/ 3\")"
   ]
  },
  {
   "cell_type": "markdown",
   "metadata": {},
   "source": [
    "Return values: exits function and directs python to continue to execute the program to return a certain value\n",
    "\n",
    "Output Parameters: parameters passed to get an output of a function/procedure "
   ]
  },
  {
   "cell_type": "code",
   "execution_count": 3,
   "metadata": {},
   "outputs": [
    {
     "name": "stdout",
     "output_type": "stream",
     "text": [
      "The square root is:  3.0\n",
      "The square root is:  4.0\n",
      "The square root of  9  is  3.0\n"
     ]
    }
   ],
   "source": [
    "import math\n",
    "\n",
    "number = input(\"Input a number you would like to take the square root of\")\n",
    "\n",
    "def square_root(num):\n",
    "    result = math.sqrt(num)\n",
    "    return result\n",
    "\n",
    "square_root_input = square_root(int(number)) # calculates the square root of the input (ex. 36)\n",
    "squareone = square_root(9) # calculates the square root of 9\n",
    "squaretwo = square_root(16) # calculated the square root of 16\n",
    "\n",
    "print('The square root is: ', squareone)\n",
    "print('The square root is: ', squaretwo)\n",
    "print('The square root of ', number, \" is \", square_root_input)"
   ]
  },
  {
   "cell_type": "markdown",
   "metadata": {},
   "source": [
    "## Hack 2\n",
    "Abstracting your program into separate, modular functions is a way of simplifying your code so that it can be reused throughout the program without having to be rewritten."
   ]
  },
  {
   "cell_type": "code",
   "execution_count": 2,
   "metadata": {},
   "outputs": [
    {
     "name": "stdout",
     "output_type": "stream",
     "text": [
      "Question:  What did you eat for breakfast? Pancakes, eggs, or cereal?\n",
      "Your response:  Pancakes\n",
      "Question:  What did you eat for lunch? A sandwich, mac and cheese, or Pizza?\n",
      "Your response:  mac and cheese\n",
      "Question:  What did you eat for dinner? Paluk Paneer, pasta, or a salad?\n",
      "Your response:  pasta\n",
      "Pancakes  was a healthy choice\n",
      "mac and cheese  was not a bad choice\n",
      "pasta  was not a bad choice\n"
     ]
    }
   ],
   "source": [
    "questionnumber = 3\n",
    "meals = []\n",
    "questions = [\n",
    "    \"What did you eat for breakfast? Pancakes, eggs, or cereal?\",\n",
    "    \"What did you eat for lunch? A sandwich, mac and cheese, or Pizza?\",\n",
    "    \"What did you eat for dinner? Paluk Paneer, pasta, or a salad?\"\n",
    "]\n",
    "\n",
    "def mealask(question):\n",
    "    print(\"Question: \", question)\n",
    "    response = input()\n",
    "    print(\"Your response: \", response)\n",
    "    meals.append(response)\n",
    "\n",
    "for number in range(questionnumber):\n",
    "    mealask(questions[number])\n",
    "\n",
    "for i in meals:\n",
    "    if i == \"cereal\" or i == \"lunchable\" or i == \"pizza\":\n",
    "        print(i, \" was not a healthy choice\")\n",
    "    elif i == \"bacon\" or i == \"mac and cheese\" or i == \"pasta\":\n",
    "        print(i, \" was not a bad choice\")\n",
    "    else:\n",
    "        print(i, \" was a healthy choice\")"
   ]
  },
  {
   "cell_type": "markdown",
   "metadata": {},
   "source": [
    "In the algorithim above, abstraction was needed due to shared behaior and conciseness. Without abstraction, I would have had to write all of the questions, their inputs, and the responses out individually. This saved me time and made the code more simple to follow and look at because I did not have to write everything down in the code."
   ]
  },
  {
   "cell_type": "markdown",
   "metadata": {},
   "source": [
    "## Hack 3\n",
    "Procedure names are names that describe a function and can be used to call a function. Procedure names make it easier for other programers to identify the purpose of a function and use throughout a program. Arguments are within parameters which provide functions with information."
   ]
  },
  {
   "cell_type": "markdown",
   "metadata": {},
   "source": [
    "<p> a = 2 </p>\n",
    "<p> b = 5 </p>\n",
    "\n",
    "<button id=\"enter\" onclick=\"add(a,b)\" >Add a and b</button> \n",
    "<p id=\"resultone\"></p>\n",
    "\n",
    "<button id=\"enter\" onclick=\"subtract(a,b)\" >Subtract a and b</button> \n",
    "<p id=\"resulttwo\"></p>\n",
    "\n",
    "<button id=\"enter\" onclick=\"multiply(a,b)\" >Multiply a and b</button> \n",
    "<p id=\"resultthree\"></p>\n",
    "\n",
    "<button id=\"enter\" onclick=\"divide(a,b)\" >Divide a and b</button> \n",
    "<p id=\"resultfour\"></p>\n",
    "\n",
    "<script>\n",
    "    function add(a,b) {\n",
    "        document.getElementById(\"resultone\").innerHTML = a + b // math\n",
    "    }\n",
    "    function subtract(a,b) {\n",
    "        document.getElementById(\"resulttwo\").innerHTML = a - b\n",
    "    }\n",
    "    function multiply(a,b) {\n",
    "        document.getElementById(\"resultthree\").innerHTML = a * b\n",
    "    }\n",
    "    function divide(a,b) {\n",
    "        document.getElementById(\"resultfour\").innerHTML = a / b\n",
    "    }\n",
    "    var a = 2\n",
    "    var b = 5\n",
    "</script>"
   ]
  }
 ],
 "metadata": {
  "kernelspec": {
   "display_name": "Python 3",
   "language": "python",
   "name": "python3"
  },
  "language_info": {
   "codemirror_mode": {
    "name": "ipython",
    "version": 3
   },
   "file_extension": ".py",
   "mimetype": "text/x-python",
   "name": "python",
   "nbconvert_exporter": "python",
   "pygments_lexer": "ipython3",
   "version": "3.8.10 (default, Jun 22 2022, 20:18:18) \n[GCC 9.4.0]"
  },
  "orig_nbformat": 4,
  "vscode": {
   "interpreter": {
    "hash": "916dbcbb3f70747c44a77c7bcd40155683ae19c65e1c03b4aa3499c5328201f1"
   }
  }
 },
 "nbformat": 4,
 "nbformat_minor": 2
}
