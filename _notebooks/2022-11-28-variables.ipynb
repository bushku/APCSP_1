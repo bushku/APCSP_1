{
 "cells": [
  {
   "cell_type": "markdown",
   "metadata": {},
   "source": [
    "## Notes\n",
    "Variable: abstraction made inside a program"
   ]
  },
  {
   "cell_type": "code",
   "execution_count": 1,
   "metadata": {},
   "outputs": [
    {
     "name": "stdout",
     "output_type": "stream",
     "text": [
      "Alex\n"
     ]
    }
   ],
   "source": [
    "## Example of Variable\n",
    "# Variable has a value of \"Alex\"\n",
    "x = \"Alex\"\n",
    "print(x)"
   ]
  },
  {
   "cell_type": "markdown",
   "metadata": {},
   "source": [
    "# Choosing Variables\n",
    "When choosing a variable, it is important to assign its name to the something that correlates with the function of the variable is supposed to do.   "
   ]
  },
  {
   "cell_type": "markdown",
   "metadata": {},
   "source": [
    "## Data Types\n",
    " - integers (numbers)\n",
    " - strings (or text/letters)\n",
    " - Booleans\n",
    "\n",
    "The best data type to represent someone's dog's name is a string.\n",
    "The best data type to represent someone's phone number is an integer."
   ]
  },
  {
   "cell_type": "code",
   "execution_count": 5,
   "metadata": {},
   "outputs": [
    {
     "name": "stdout",
     "output_type": "stream",
     "text": [
      "Timmy is 25\n"
     ]
    }
   ],
   "source": [
    "## Example\n",
    "name = \"Timmy\"\n",
    "age = \"25\"\n",
    "\n",
    "print(name + \" is \" + age)"
   ]
  },
  {
   "cell_type": "markdown",
   "metadata": {},
   "source": [
    "## Hacks 1"
   ]
  },
  {
   "cell_type": "code",
   "execution_count": null,
   "metadata": {},
   "outputs": [
    {
     "name": "stdout",
     "output_type": "stream",
     "text": [
      "Shruthi is 18\n"
     ]
    }
   ],
   "source": [
    "age = \"18\"\n",
    "name = \"Shruthi\"\n",
    "\n",
    "print(name + \" is \" + age)"
   ]
  },
  {
   "cell_type": "markdown",
   "metadata": {},
   "source": [
    "## Hacks 2\n",
    "The assignment operator is the transition character of a variable. \n",
    "A variable is an abstraction made inside a program that holds a value.\n",
    "College board uses assignment operator <-\n",
    "In python, the assignment operator is an equal sign.\n",
    "A variable, x, is initially given a value of 15. Later on, the value for x is changed to 22. If you print x, the command would display 22.\n",
    "## Hacks 3\n",
    "A list is a sequence of elements with each element being a variable.\n",
    "An easy way to reference the elements is in a list.\n",
    "Example of a string: \"hello world\""
   ]
  },
  {
   "cell_type": "markdown",
   "metadata": {},
   "source": [
    "## Notes - List Index"
   ]
  },
  {
   "cell_type": "code",
   "execution_count": 3,
   "metadata": {},
   "outputs": [
    {
     "name": "stdout",
     "output_type": "stream",
     "text": [
      "annie's song\n",
      "ladies love country boys\n"
     ]
    }
   ],
   "source": [
    "songList = [\"american pie\", \"country roads\", \"annie's song\", \"ladies love country boys\"]\n",
    "print(songList[2])\n",
    "print(songList[-1])"
   ]
  },
  {
   "cell_type": "markdown",
   "metadata": {},
   "source": [
    "## Hacks 3 continued"
   ]
  },
  {
   "cell_type": "code",
   "execution_count": 15,
   "metadata": {},
   "outputs": [
    {
     "name": "stdout",
     "output_type": "stream",
     "text": [
      "caulifour\n",
      "circle-shaped eggplant\n"
     ]
    }
   ],
   "source": [
    "foodList = [\"caulifour\", \"pizza\", \"egg curry\", \"circle-shaped eggplant\"]\n",
    "print(foodList[0])\n",
    "print(foodList[-1])"
   ]
  },
  {
   "cell_type": "code",
   "execution_count": null,
   "metadata": {
    "vscode": {
     "languageId": "html"
    }
   },
   "outputs": [],
   "source": [
    "<html>\n",
    "    <body>\n",
    "        <div class=\"container\">\n",
    "            <div class=\"calendar\">\n",
    "                <div class=\"month\">\n",
    "                    <button id=\"prev\" onclick=\"prev()\">Prev</button>\n",
    "                    <button id=\"next\" onclick=\"next()\">Next</button>\n",
    "​\n",
    "                    <p id=\"month\">Month Here</p>\n",
    "                </div>\n",
    "            </div>\n",
    "        </div>\n",
    "​\n",
    "        <script>\n",
    "​\n",
    "            let months = [\"January\", \"February\", \"March\", \"April\", \"May\", \"June\", \"July\", \"August\", \"September\", \"October\", \"November\", \"December\"];\n",
    "            let index = 0;\n",
    "​\n",
    "            function next() {\n",
    "                if (index > 11) {\n",
    "                    index = 0;\n",
    "                }\n",
    "                else {\n",
    "                    index += 1;\n",
    "                }\n",
    "                document.getElementById(\"month\").innerHTML = months[index]\n",
    "            }\n",
    "​\n",
    "            function prev() {\n",
    "                if (index < 0) {\n",
    "                    index = 11;\n",
    "                }\n",
    "                else {\n",
    "                    index -= 1;\n",
    "                }\n",
    "                document.getElementById(\"month\").innerHTML = months[index]\n",
    "            }\n",
    "​\n",
    "            document.getElementById(\"month\").innerHTML = months[index]\n",
    "​\n",
    "        </script>\n",
    "    </body>\n",
    "</html>"
   ]
  },
  {
   "cell_type": "markdown",
   "metadata": {},
   "source": [
    "## Hacks 4"
   ]
  },
  {
   "cell_type": "code",
   "execution_count": 2,
   "metadata": {},
   "outputs": [
    {
     "name": "stdout",
     "output_type": "stream",
     "text": [
      "Original numbers: [2, 3, 4]\n",
      "Adding: 5\n",
      "[7, 8, 9]\n"
     ]
    }
   ],
   "source": [
    "num1=input(\"Input a number. \")\n",
    "num2=input(\"Input a number. \")\n",
    "num3=input(\"Input a number. \")\n",
    "add=input(\"How much would you like to add? \")\n",
    "\n",
    "# Add code in the space below\n",
    "\n",
    "numlist = [int(num1), int(num2), int(num3)]\n",
    "print(\"Original numbers:\",numlist)\n",
    "print(\"Adding:\",add)\n",
    "\n",
    "for i in range(len(numlist)):\n",
    "    numlist[i -1] += int(add)\n",
    "\n",
    "print(numlist)"
   ]
  },
  {
   "cell_type": "markdown",
   "metadata": {},
   "source": [
    "## Hacks 5"
   ]
  },
  {
   "cell_type": "markdown",
   "metadata": {},
   "source": [
    "## Python Quiz\n",
    "1. The purpose of lists and dictionaires is to manage complexity of a program\n",
    "2. Lists are a form of data abstraction\n",
    "3. We use [] to assign a variable to make a list\n"
   ]
  },
  {
   "cell_type": "markdown",
   "metadata": {},
   "source": [
    "## Notes\n",
    "## Long and Slow Way"
   ]
  },
  {
   "cell_type": "code",
   "execution_count": 8,
   "metadata": {},
   "outputs": [
    {
     "name": "stdout",
     "output_type": "stream",
     "text": [
      "cauliflour pizza egg curry circle-shaped eggplant\n"
     ]
    }
   ],
   "source": [
    "food1 = \"cauliflour\" \n",
    "food2 = \"pizza\" \n",
    "food3 = \"egg curry\"\n",
    "food4 = \"circle-shaped eggplant\"\n",
    "print(food1, food2, food3, food4)"
   ]
  },
  {
   "cell_type": "markdown",
   "metadata": {},
   "source": [
    "## Assinging values to one variable"
   ]
  },
  {
   "cell_type": "code",
   "execution_count": 1,
   "metadata": {},
   "outputs": [
    {
     "name": "stdout",
     "output_type": "stream",
     "text": [
      "[95, 84, 85, 99]\n"
     ]
    }
   ],
   "source": [
    "scores = [95, 84, 85, 99]\n",
    "print(scores)"
   ]
  }
 ],
 "metadata": {
  "kernelspec": {
   "display_name": "Python 3.9.12 ('base')",
   "language": "python",
   "name": "python3"
  },
  "language_info": {
   "codemirror_mode": {
    "name": "ipython",
    "version": 3
   },
   "file_extension": ".py",
   "mimetype": "text/x-python",
   "name": "python",
   "nbconvert_exporter": "python",
   "pygments_lexer": "ipython3",
   "version": "3.9.12"
  },
  "orig_nbformat": 4,
  "vscode": {
   "interpreter": {
    "hash": "bb3b45b69dd672c7037523c2546b9f78b450f43deb1ccb950b07e59b48e1e770"
   }
  }
 },
 "nbformat": 4,
 "nbformat_minor": 2
}
