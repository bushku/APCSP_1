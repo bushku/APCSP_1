{
 "cells": [
  {
   "cell_type": "code",
   "execution_count": 1,
   "metadata": {},
   "outputs": [
    {
     "name": "stdout",
     "output_type": "stream",
     "text": [
      "[1, 2, 3, 4, 5]\n"
     ]
    }
   ],
   "source": [
    "## Hack 1\n",
    "# This creates a function called inefficientWay with a parameter called number.\n",
    "def inefficientWay(numbers):\n",
    " # Then it loops over the numbers\n",
    " for i in range(len(numbers)):\n",
    "   # Now it finds the minimum number in the unsorted part of the list\n",
    "   min_index = i\n",
    "   for j in range(i+1, len(numbers)):\n",
    "     if numbers[j] < numbers[min_index]:\n",
    "       min_index = j\n",
    "   # Then it swaps the minimum number with the first unsorted number\n",
    "   numbers[i], numbers[min_index] = numbers[min_index], numbers[i]\n",
    " # return the sorted list\n",
    " return numbers\n",
    " \n",
    "# test the algorithm\n",
    "print(inefficientWay([2, 4, 5, 1, 3]))  # should print [1, 2, 3, 4, 5]"
   ]
  },
  {
   "cell_type": "code",
   "execution_count": null,
   "metadata": {},
   "outputs": [],
   "source": [
    "def efficient_sort(numbers):\n",
    " # loop over the numbers\n",
    " for i in range(len(numbers)):\n",
    "   # find the minimum number in the unsorted part of the list\n",
    "   min_index = i\n",
    "   for j in range(i+1, len(numbers)):\n",
    "     if numbers[j] < numbers[min_index]:\n",
    "       min_index = j\n",
    "   # swap the minimum number with the first unsorted number\n",
    "   numbers[i], numbers[min_index] = numbers[min_index], numbers[i]\n",
    " # return the sorted list\n",
    " return numbers\n",
    " \n",
    "# test the algorithm\n",
    "print(efficient_sort([2, 4, 5, 1, 3]))  # should print [1, 2, 3, 4, 5]"
   ]
  }
 ],
 "metadata": {
  "kernelspec": {
   "display_name": "Python 3",
   "language": "python",
   "name": "python3"
  },
  "language_info": {
   "codemirror_mode": {
    "name": "ipython",
    "version": 3
   },
   "file_extension": ".py",
   "mimetype": "text/x-python",
   "name": "python",
   "nbconvert_exporter": "python",
   "pygments_lexer": "ipython3",
   "version": "3.8.10"
  },
  "orig_nbformat": 4,
  "vscode": {
   "interpreter": {
    "hash": "916dbcbb3f70747c44a77c7bcd40155683ae19c65e1c03b4aa3499c5328201f1"
   }
  }
 },
 "nbformat": 4,
 "nbformat_minor": 2
}
