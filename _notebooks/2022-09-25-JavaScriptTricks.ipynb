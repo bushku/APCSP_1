{
 "cells": [
  {
   "cell_type": "markdown",
   "metadata": {},
   "source": [
    "# JavaScript Tricks\n",
    "> Quick launch into Variables, Functions, Arrays, IJavaScript HTML, using Jupyter Notebooks\n",
    "\n",
    "- toc: true\n",
    "- comments: true\n",
    "- categories: [APCSP]"
   ]
  },
  {
   "cell_type": "markdown",
   "metadata": {},
   "source": [
    "The first trick is the tunary operator."
   ]
  },
  {
   "cell_type": "code",
   "execution_count": 1,
   "metadata": {
    "vscode": {
     "languageId": "javascript"
    }
   },
   "outputs": [
    {
     "name": "stdout",
     "output_type": "stream",
     "text": [
      "You underage homeboiii\n"
     ]
    }
   ],
   "source": [
    "const age = 13\n",
    "\n",
    "age < 15 ? console.log(\"You underage homeboiii\") : console.log(\"you big boi\")"
   ]
  },
  {
   "cell_type": "code",
   "execution_count": 1,
   "metadata": {
    "vscode": {
     "languageId": "javascript"
    }
   },
   "outputs": [
    {
     "name": "stdout",
     "output_type": "stream",
     "text": [
      "you are between 30 and 50\n"
     ]
    }
   ],
   "source": [
    "const age = 55\n",
    "\n",
    "age > 50\n",
    "    ? age > 70 ? console.log(\"You are getting really old\")\n",
    "    : console.log(\"you are between 30 and 50\")\n",
    "  : console.log(\"You are below 30\");"
   ]
  },
  {
   "cell_type": "markdown",
   "metadata": {},
   "source": [
    "The second trick is number to string."
   ]
  },
  {
   "cell_type": "code",
   "execution_count": 1,
   "metadata": {
    "vscode": {
     "languageId": "javascript"
    }
   },
   "outputs": [
    {
     "name": "stdout",
     "output_type": "stream",
     "text": [
      "20\n",
      "number\n"
     ]
    }
   ],
   "source": [
    "const age = 20;\n",
    "\n",
    "console.log(age);\n",
    "\n",
    "console.log(typeof age);"
   ]
  },
  {
   "cell_type": "markdown",
   "metadata": {},
   "source": [
    "The third trick is fill arrays."
   ]
  },
  {
   "cell_type": "code",
   "execution_count": 1,
   "metadata": {
    "vscode": {
     "languageId": "javascript"
    }
   },
   "outputs": [
    {
     "name": "stdout",
     "output_type": "stream",
     "text": [
      "[ '', '', '', '', '' ]\n"
     ]
    }
   ],
   "source": [
    "const users = Array(5).fill(\"\");\n",
    "\n",
    "console.log(users);\n"
   ]
  },
  {
   "cell_type": "markdown",
   "metadata": {},
   "source": [
    "The fourth trick is unique arrays."
   ]
  },
  {
   "cell_type": "code",
   "execution_count": 1,
   "metadata": {
    "vscode": {
     "languageId": "javascript"
    }
   },
   "outputs": [
    {
     "name": "stdout",
     "output_type": "stream",
     "text": [
      "[ 'Ed', 'Mr. John', 'Shruthi' ]\n"
     ]
    }
   ],
   "source": [
    "const users = [\n",
    "    \"Ed\", \n",
    "    \"Mr. John\", \n",
    "    \"Shruthi\"\n",
    "]\n",
    "\n",
    "const unique = Array.from(new Set(users));\n",
    "\n",
    "console.log(unique);"
   ]
  },
  {
   "cell_type": "markdown",
   "metadata": {},
   "source": [
    "The 5th trick is Dynamic Objects."
   ]
  },
  {
   "cell_type": "code",
   "execution_count": 1,
   "metadata": {
    "vscode": {
     "languageId": "javascript"
    }
   },
   "outputs": [
    {
     "name": "stdout",
     "output_type": "stream",
     "text": [
      "{ name: 'Shruthi',\n",
      "  email: 'damodar.shruthi@gmail.com',\n",
      "  rest: 'music' }\n"
     ]
    }
   ],
   "source": [
    "const dynamic = \"rest\";\n",
    "\n",
    "const users = {\n",
    "    name: \"Shruthi\", \n",
    "    email: \"damodar.shruthi@gmail.com\", \n",
    "    [dynamic]: \"music\"\n",
    "};\n",
    "\n",
    "\n",
    "console.log(users);"
   ]
  },
  {
   "cell_type": "markdown",
   "metadata": {},
   "source": [
    "The sixth trick is slicing arrays."
   ]
  },
  {
   "cell_type": "code",
   "execution_count": 1,
   "metadata": {
    "vscode": {
     "languageId": "javascript"
    }
   },
   "outputs": [
    {
     "name": "stdout",
     "output_type": "stream",
     "text": [
      "[ 1, 2, 3 ]\n"
     ]
    }
   ],
   "source": [
    "const users = [1,2,3,4,5,6,7];\n",
    "users.length = 3;\n",
    "\n",
    "console.log(users);"
   ]
  },
  {
   "cell_type": "markdown",
   "metadata": {},
   "source": [
    "The seventh trick is slicing arrays end."
   ]
  },
  {
   "cell_type": "code",
   "execution_count": 1,
   "metadata": {
    "vscode": {
     "languageId": "javascript"
    }
   },
   "outputs": [
    {
     "name": "stdout",
     "output_type": "stream",
     "text": [
      "[ 5, 6, 7 ]\n"
     ]
    }
   ],
   "source": [
    "const users = [1,2,3,4,5,6,7];\n",
    "\n",
    "console.log(users.slice(-3));\n"
   ]
  }
 ],
 "metadata": {
  "kernelspec": {
   "display_name": "Python 3.9.12 ('base')",
   "language": "python",
   "name": "python3"
  },
  "language_info": {
   "codemirror_mode": {
    "name": "ipython",
    "version": 3
   },
   "file_extension": ".py",
   "mimetype": "text/x-python",
   "name": "python",
   "nbconvert_exporter": "python",
   "pygments_lexer": "ipython3",
   "version": "3.9.12"
  },
  "orig_nbformat": 4,
  "vscode": {
   "interpreter": {
    "hash": "bb3b45b69dd672c7037523c2546b9f78b450f43deb1ccb950b07e59b48e1e770"
   }
  }
 },
 "nbformat": 4,
 "nbformat_minor": 2
}
