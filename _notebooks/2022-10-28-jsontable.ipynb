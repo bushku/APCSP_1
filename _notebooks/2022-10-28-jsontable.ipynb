{
 "cells": [
  {
   "cell_type": "code",
   "execution_count": 1,
   "metadata": {},
   "outputs": [
    {
     "ename": "SyntaxError",
     "evalue": "Unexpected token <",
     "output_type": "error",
     "traceback": [
      "evalmachine.<anonymous>:1",
      "<select id=\"myselect\" onchange=\"change_myselect(this.value)\">",
      "^",
      "",
      "SyntaxError: Unexpected token <",
      "    at createScript (vm.js:56:10)",
      "    at Object.runInThisContext (vm.js:97:10)",
      "    at run ([eval]:1020:15)",
      "    at onRunRequest ([eval]:864:18)",
      "    at onMessage ([eval]:828:13)",
      "    at emitTwo (events.js:106:13)",
      "    at process.emit (events.js:191:7)",
      "    at process.nextTick (internal/child_process.js:758:12)",
      "    at _combinedTickCallback (internal/process/next_tick.js:73:7)",
      "    at process._tickCallback (internal/process/next_tick.js:104:9)"
     ]
    }
   ],
   "source": [
    "<select id=\"myselect\" onchange=\"change_myselect(this.value)\">\n",
    "  <option value=\"\">Choose an option:</option>\n",
    "  <option value=\"customers\">Customers</option>\n",
    "  <option value=\"products\">Products</option>\n",
    "  <option value=\"suppliers\">Suppliers</option>\n",
    "</select>\n",
    "\n",
    "<script>\n",
    "function change_myselect(sel) {\n",
    "  const dbParam = JSON.stringify({table:sel,limit:20});\n",
    "  const xmlhttp = new XMLHttpRequest();\n",
    "  xmlhttp.onload = function() {\n",
    "    const myObj = JSON.parse(this.responseText);\n",
    "    let text = \"<table border='1'>\"\n",
    "    for (let x in myObj) {\n",
    "      text += \"<tr><td>\" + myObj[x].name + \"</td></tr>\";\n",
    "    }\n",
    "    text += \"</table>\"\n",
    "    document.getElementById(\"demo\").innerHTML = text;\n",
    "  }\n",
    "  xmlhttp.open(\"POST\", \"json_demo_html_table.php\");\n",
    "  xmlhttp.setRequestHeader(\"Content-type\", \"application/x-www-form-urlencoded\");\n",
    "  xmlhttp.send(\"x=\" + dbParam);\n",
    "}\n",
    "</script>"
   ]
  }
 ],
 "metadata": {
  "kernelspec": {
   "display_name": "JavaScript (Node.js)",
   "language": "javascript",
   "name": "javascript"
  },
  "language_info": {
   "file_extension": ".js",
   "mimetype": "application/javascript",
   "name": "javascript",
   "version": "6.11.2"
  },
  "orig_nbformat": 4,
  "vscode": {
   "interpreter": {
    "hash": "bb3b45b69dd672c7037523c2546b9f78b450f43deb1ccb950b07e59b48e1e770"
   }
  }
 },
 "nbformat": 4,
 "nbformat_minor": 2
}
