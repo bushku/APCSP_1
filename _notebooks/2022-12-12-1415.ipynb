{
 "cells": [
  {
   "cell_type": "markdown",
   "metadata": {},
   "source": [
    "# 3.14 and 3.15 Hacks\n",
    "> These are my 3.14 and 3.15 Hacks."
   ]
  },
  {
   "cell_type": "code",
   "execution_count": null,
   "metadata": {},
   "outputs": [],
   "source": [
    "## Notes\n",
    " - Library: a collection of code from an external source can be used for adding functionality to a program, included in a program using a special keyword \"\"\n",
    " - Libraries are useful because it saves time and effort in development process"
   ]
  },
  {
   "cell_type": "markdown",
   "metadata": {},
   "source": [
    "## Hack 1"
   ]
  },
  {
   "cell_type": "markdown",
   "metadata": {},
   "source": [
    "## Example of Library"
   ]
  },
  {
   "cell_type": "code",
   "execution_count": 2,
   "metadata": {},
   "outputs": [
    {
     "data": {
      "text/plain": [
       "11.0"
      ]
     },
     "execution_count": 2,
     "metadata": {},
     "output_type": "execute_result"
    }
   ],
   "source": [
    "## This is an example of a code that uses libraries\n",
    "# I used this example because I am really good at math. For the following code, the output of it is 11 because the square root is 121 is 11.\n",
    "import math\n",
    "\n",
    "math.sqrt(121)"
   ]
  },
  {
   "cell_type": "markdown",
   "metadata": {},
   "source": [
    "## Hack 2\n",
    "Randomization generates a value between two numbers. "
   ]
  },
  {
   "cell_type": "code",
   "execution_count": 4,
   "metadata": {},
   "outputs": [
    {
     "name": "stdout",
     "output_type": "stream",
     "text": [
      "How many family members will I visit for Christmas\n",
      "You will visit  52  families for Christmas\n"
     ]
    }
   ],
   "source": [
    "import random\n",
    "\n",
    "\n",
    "print(\"How many family members will I visit for Christmas\")\n",
    "randomnumber = random.randint(0,100)\n",
    "\n",
    "\n",
    "print(\"You will visit \", randomnumber, \" families for Christmas\")"
   ]
  },
  {
   "cell_type": "markdown",
   "metadata": {},
   "source": [
    "An input random function can import code from another source that contains randomization."
   ]
  },
  {
   "cell_type": "markdown",
   "metadata": {},
   "source": [
    "The import function can import things other than random such as flask, NumPy, and pandas."
   ]
  },
  {
   "cell_type": "code",
   "execution_count": 5,
   "metadata": {},
   "outputs": [
    {
     "name": "stdout",
     "output_type": "stream",
     "text": [
      "blue\n"
     ]
    }
   ],
   "source": [
    "## Hack 3\n",
    "import random\n",
    "\n",
    "colorspinner =  random.randint(1,8)\n",
    "\n",
    "if colorspinner <= 3:\n",
    "    print(\"green\")\n",
    "elif colorspinner <= 5:\n",
    "    print(\"blue\")\n",
    "elif colorspinner <= 6:\n",
    "    print(\"purple\")\n",
    "elif colorspinner <= 7:\n",
    "    print(\"red\")\n",
    "else:\n",
    "    print(\"orange\")"
   ]
  },
  {
   "cell_type": "markdown",
   "metadata": {},
   "source": [
    "RANDOM(12,20) can output numbers 12, 13, 14, 15, 16, 17, 18, 19, & 20. Numbers greater than 20 and numbers less than 12 are excluded."
   ]
  }
 ],
 "metadata": {
  "kernelspec": {
   "display_name": "Python 3",
   "language": "python",
   "name": "python3"
  },
  "language_info": {
   "codemirror_mode": {
    "name": "ipython",
    "version": 3
   },
   "file_extension": ".py",
   "mimetype": "text/x-python",
   "name": "python",
   "nbconvert_exporter": "python",
   "pygments_lexer": "ipython3",
   "version": "3.8.10"
  },
  "orig_nbformat": 4,
  "vscode": {
   "interpreter": {
    "hash": "916dbcbb3f70747c44a77c7bcd40155683ae19c65e1c03b4aa3499c5328201f1"
   }
  }
 },
 "nbformat": 4,
 "nbformat_minor": 2
}
