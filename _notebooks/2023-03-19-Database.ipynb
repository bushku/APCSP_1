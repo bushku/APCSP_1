{
 "cells": [
  {
   "cell_type": "markdown",
   "metadata": {},
   "source": [
    "# BMI Database"
   ]
  },
  {
   "cell_type": "markdown",
   "metadata": {},
   "source": [
    "## Creating the Table"
   ]
  },
  {
   "cell_type": "code",
   "execution_count": 13,
   "metadata": {},
   "outputs": [],
   "source": [
    "import sqlite3\n",
    "\n",
    "\n",
    "def create_connection(db_file):\n",
    "\n",
    "    conn = None\n",
    "\n",
    "    try:\n",
    "        conn = sqlite3.connect(db_file)\n",
    "        return conn\n",
    "    except Error as e:\n",
    "        print(e)\n",
    "    return conn\n",
    "\n",
    "\n",
    "def create_table(conn, create_table_sql):\n",
    "    try:\n",
    "        c = conn.cursor()\n",
    "        c.execute(create_table_sql)\n",
    "    except Error as e:\n",
    "        print(e)\n",
    "\n",
    "\n",
    "def main():\n",
    "    database = 'instance/sqlite.db'\n",
    "\n",
    "    sqlite_table = \"\"\"CREATE TABLE IF NOT EXISTS movies ( \n",
    "                                        _id integer PRIMARY KEY,\n",
    "                                        _name text,\n",
    "                                        _height integer,\n",
    "                                        _weight integer,\n",
    "                                        _BMI integer\n",
    "                                    ); \"\"\"  # not null makes coloum not accpet null values\n",
    "    conn = create_connection(database)\n",
    "\n",
    "    # create table\n",
    "    create_table(conn, sqlite_table)\n",
    "\n",
    "\n",
    "if __name__ == '__main__':\n",
    "    main()"
   ]
  },
  {
   "cell_type": "markdown",
   "metadata": {},
   "source": [
    "## Schema"
   ]
  },
  {
   "cell_type": "code",
   "execution_count": 14,
   "metadata": {},
   "outputs": [],
   "source": [
    "import sqlite3\n",
    "\n",
    "database = 'instance/sqlite.db' # this is location of database\n",
    "\n",
    "def schema():\n",
    "    \n",
    "    # Connect to the database file\n",
    "    conn = sqlite3.connect(database)\n",
    "\n",
    "    # Create a cursor object to execute SQL queries\n",
    "    cursor = conn.cursor()\n",
    "    \n",
    "    # Fetch results of Schema\n",
    "    results = cursor.execute(\"PRAGMA table_info('BMIs')\").fetchall()\n",
    "\n",
    "    # Print the results\n",
    "    for row in results:\n",
    "        print(row)\n",
    "\n",
    "    # Close the database connection\n",
    "    conn.close()\n",
    "    \n",
    "schema()"
   ]
  },
  {
   "cell_type": "markdown",
   "metadata": {},
   "source": [
    "## Read"
   ]
  },
  {
   "cell_type": "code",
   "execution_count": 15,
   "metadata": {},
   "outputs": [
    {
     "name": "stdout",
     "output_type": "stream",
     "text": [
      "(9, 'Jake', 6, 110, 12)\n",
      "(11, 'Mom', 7, 119, 10)\n",
      "(13, 'Mort', 6, 118, 18)\n",
      "(18, 'Shruthi', \"5'0\", 100, 14)\n",
      "(19, 'Aneesh', \"6'4\", 119, 13)\n",
      "(20, 'Dad', \"6'5\", 111, 14)\n",
      "(21, 'Paaras', \"5'6\", 112, 13)\n",
      "(22, 'Josh', 6, 119, 13)\n"
     ]
    }
   ],
   "source": [
    "import sqlite3\n",
    "\n",
    "def read():\n",
    "    # Connect to the database file\n",
    "    conn = sqlite3.connect(database)\n",
    "\n",
    "    # Create a cursor object to execute SQL queries\n",
    "    cursor = conn.cursor()\n",
    "    \n",
    "    # Execute a SELECT statement to retrieve data from a table\n",
    "    results = cursor.execute('SELECT * FROM BMIList').fetchall()\n",
    "\n",
    "    # Print the results\n",
    "    if len(results) == 0:\n",
    "        print(\"Table is empty\")\n",
    "    else:\n",
    "        for row in results:\n",
    "            print(row)\n",
    "\n",
    "    # Close the cursor and connection objects\n",
    "    cursor.close()\n",
    "    conn.close()\n",
    "    \n",
    "read()"
   ]
  },
  {
   "cell_type": "markdown",
   "metadata": {},
   "source": [
    "## Create"
   ]
  },
  {
   "cell_type": "code",
   "execution_count": 16,
   "metadata": {},
   "outputs": [
    {
     "name": "stdout",
     "output_type": "stream",
     "text": [
      "A new BMI record 11 has been created\n"
     ]
    }
   ],
   "source": [
    "def create():\n",
    "    database = 'instance/sqlite.db'\n",
    "    name = input(\"Enter your name:\")\n",
    "    height = input(\"Enter your height:\")\n",
    "    weight = input(\"Enter your weight\")\n",
    "    BMI = input(\"Enter your BMI\")\n",
    "    # Connect to the database file\n",
    "    conn = sqlite3.connect(database)\n",
    "    # execute SQL commands\n",
    "    cursor = conn.cursor()\n",
    "    try:\n",
    "        # insert data into a table\n",
    "        cursor.execute(\"INSERT INTO BMIList (_name, _height, _weight, _BMI) VALUES (?, ?, ?, ?)\",\n",
    "                       (name, height, weight, BMI))\n",
    "        # Commit the changes\n",
    "        conn.commit()\n",
    "        print(f\"A new BMI record {BMI} has been created\")\n",
    "    except sqlite3.Error as error:\n",
    "        print(\"Error with inserting\", error)\n",
    "    # Close the cursor and connection objects\n",
    "    cursor.close()\n",
    "    conn.close()\n",
    "create()"
   ]
  },
  {
   "cell_type": "code",
   "execution_count": 17,
   "metadata": {},
   "outputs": [
    {
     "name": "stdout",
     "output_type": "stream",
     "text": [
      "(9, 'Jake', 6, 110, 12)\n",
      "(11, 'Mom', 7, 119, 10)\n",
      "(13, 'Mort', 6, 118, 18)\n",
      "(18, 'Shruthi', \"5'0\", 100, 14)\n",
      "(19, 'Aneesh', \"6'4\", 119, 13)\n",
      "(20, 'Dad', \"6'5\", 111, 14)\n",
      "(21, 'Paaras', \"5'6\", 112, 13)\n",
      "(22, 'Josh', 6, 119, 13)\n",
      "(23, 'Alexa', \"5'6\", 111, 11)\n"
     ]
    }
   ],
   "source": [
    "read()"
   ]
  },
  {
   "cell_type": "markdown",
   "metadata": {},
   "source": [
    "## Delete"
   ]
  },
  {
   "cell_type": "code",
   "execution_count": 18,
   "metadata": {},
   "outputs": [
    {
     "name": "stdout",
     "output_type": "stream",
     "text": [
      "----Original Table:----\n",
      "(9, 'Jake', 6, 110, 12)\n",
      "(11, 'Mom', 7, 119, 10)\n",
      "(13, 'Mort', 6, 118, 18)\n",
      "(18, 'Shruthi', \"5'0\", 100, 14)\n",
      "(19, 'Aneesh', \"6'4\", 119, 13)\n",
      "(20, 'Dad', \"6'5\", 111, 14)\n",
      "(21, 'Paaras', \"5'6\", 112, 13)\n",
      "(22, 'Josh', 6, 119, 13)\n",
      "(23, 'Alexa', \"5'6\", 111, 11)\n",
      "\n",
      "The row with BMI 18 has been deleted\n",
      "(9, 'Jake', 6, 110, 12)\n",
      "(11, 'Mom', 7, 119, 10)\n",
      "(18, 'Shruthi', \"5'0\", 100, 14)\n",
      "(19, 'Aneesh', \"6'4\", 119, 13)\n",
      "(20, 'Dad', \"6'5\", 111, 14)\n",
      "(21, 'Paaras', \"5'6\", 112, 13)\n",
      "(22, 'Josh', 6, 119, 13)\n",
      "(23, 'Alexa', \"5'6\", 111, 11)\n"
     ]
    }
   ],
   "source": [
    "import sqlite3\n",
    "def delete():\n",
    "    database = 'instance/sqlite.db'\n",
    "    BMI = input(\"Enter BMI to delete\")\n",
    "    # Connect to the database file\n",
    "    conn = sqlite3.connect(database)\n",
    "    # Create a cursor object to execute SQL commands\n",
    "    cursor = conn.cursor()\n",
    "    try:\n",
    "        cursor.execute(\"DELETE FROM BMIList WHERE _BMI = ?\", (BMI,))\n",
    "        if cursor.rowcount == 0:\n",
    "            # The uid was not found in the table\n",
    "            print(f\"No BMI {BMI} was not found in the table\")\n",
    "        else:\n",
    "            # The uid was found in the table and the row was deleted\n",
    "            print(f\"The row with BMI {BMI} has been deleted\")\n",
    "        conn.commit()\n",
    "    except sqlite3.Error as error:\n",
    "        print(\"Error in DELETE:\", error)\n",
    "    # Close the cursor and connection objects\n",
    "    cursor.close()\n",
    "    conn.close()\n",
    "print(\"----Original Table:----\")\n",
    "read()\n",
    "print(\"\")\n",
    "delete()\n",
    "read()"
   ]
  },
  {
   "cell_type": "markdown",
   "metadata": {},
   "source": [
    "## Update"
   ]
  },
  {
   "cell_type": "code",
   "execution_count": 21,
   "metadata": {},
   "outputs": [
    {
     "name": "stdout",
     "output_type": "stream",
     "text": [
      "----Original Database:----\n",
      "(9, 'Jake', 6, 110, 12)\n",
      "(11, 'Mom', 7, 119, 10)\n",
      "(18, 'Shruthi', \"5'0\", 100, 18)\n",
      "(19, 'Aneesh', \"6'4\", 119, 13)\n",
      "(20, 'Dad', \"6'5\", 111, 14)\n",
      "(21, 'Paaras', \"5'6\", 112, 13)\n",
      "(22, 'Josh', 6, 119, 13)\n",
      "(23, 'Alexa', \"5'6\", 111, 11)\n",
      "\n",
      "----Updated Database:----\n",
      "The row with his/her Dad implies that you are either underweight or overweight\n",
      "(9, 'Jake', 6, 110, 12)\n",
      "(11, 'Mom', 7, 119, 10)\n",
      "(18, 'Shruthi', \"5'0\", 100, 18)\n",
      "(19, 'Aneesh', \"6'4\", 119, 13)\n",
      "(20, 'Dad', \"6'5\", 111, 18)\n",
      "(21, 'Paaras', \"5'6\", 112, 13)\n",
      "(22, 'Josh', 6, 119, 13)\n",
      "(23, 'Alexa', \"5'6\", 111, 11)\n"
     ]
    }
   ],
   "source": [
    "import sqlite3\n",
    "def update():\n",
    "    name = input(\"Enter your name to update your BMI\")\n",
    "    BMI = input(\"Enter updated BMI\")\n",
    "    if BMI == 19:\n",
    "        message = \"you are normal\"\n",
    "    else:\n",
    "        message = \"you are either underweight or overweight\"\n",
    "    # Connect to the database file\n",
    "    conn = sqlite3.connect(database)\n",
    "    # Create a cursor object to execute SQL commands\n",
    "    cursor = conn.cursor()\n",
    "    try:\n",
    "        # Execute an SQL command to update data in a table\n",
    "        cursor.execute(\"UPDATE BMIList SET _BMI = ? WHERE _name = ?\", (BMI, name))\n",
    "        if cursor.rowcount == 0:\n",
    "            # The uid was not found in the table\n",
    "            print(f\"No name {name} was not found in the table\")\n",
    "        else:\n",
    "            print(f\"The row with his/her {name} implies that {message}\")\n",
    "            conn.commit()\n",
    "    except sqlite3.Error as error:\n",
    "        print(\"Error while executing the UPDATE:\", error)\n",
    "    # Close the cursor and connection objects\n",
    "    cursor.close()\n",
    "    conn.close()\n",
    "print('----Original Database:----')\n",
    "read()\n",
    "print(\"\")\n",
    "print('----Updated Database:----')\n",
    "update()\n",
    "read()"
   ]
  },
  {
   "cell_type": "markdown",
   "metadata": {},
   "source": [
    "## CRUD"
   ]
  },
  {
   "cell_type": "code",
   "execution_count": 26,
   "metadata": {},
   "outputs": [
    {
     "name": "stdout",
     "output_type": "stream",
     "text": [
      "No BMI  was not found in the table\n"
     ]
    }
   ],
   "source": [
    "def menu():\n",
    "    operation = input(\"Enter: (C)reate (R)ead (U)pdate or (D)elete\")\n",
    "    if operation.lower() == 'c':\n",
    "        create()\n",
    "    elif operation.lower() == 'r':\n",
    "        read()\n",
    "    elif operation.lower() == 'u':\n",
    "        update()\n",
    "    elif operation.lower() == 'd':\n",
    "        delete()\n",
    "    elif len(operation)==0: # Escape Key\n",
    "        return\n",
    "    else:\n",
    "        print(\"Please enter c, r, u, d\")\n",
    "    menu() # recursion (repeats)\n",
    "try:\n",
    "    menu() # start menu\n",
    "except:\n",
    "    print(\"Perform Jupyter 'Run All' prior to starting menu\")"
   ]
  }
 ],
 "metadata": {
  "kernelspec": {
   "display_name": "base",
   "language": "python",
   "name": "python3"
  },
  "language_info": {
   "codemirror_mode": {
    "name": "ipython",
    "version": 3
   },
   "file_extension": ".py",
   "mimetype": "text/x-python",
   "name": "python",
   "nbconvert_exporter": "python",
   "pygments_lexer": "ipython3",
   "version": "3.9.12"
  },
  "orig_nbformat": 4
 },
 "nbformat": 4,
 "nbformat_minor": 2
}
