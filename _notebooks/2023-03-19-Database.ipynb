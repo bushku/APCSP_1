{
 "cells": [
  {
   "cell_type": "markdown",
   "metadata": {},
   "source": [
    "# Database Menu (CRUD)"
   ]
  },
  {
   "cell_type": "code",
   "execution_count": 64,
   "metadata": {},
   "outputs": [],
   "source": [
    "import sqlite3\n",
    "\n",
    "database = 'instance/sqlite.db' # this is location of database\n",
    "\n",
    "def schema():\n",
    "    \n",
    "    # Connect to the database file\n",
    "    conn = sqlite3.connect(database)\n",
    "\n",
    "    # Create a cursor object to execute SQL queries\n",
    "    cursor = conn.cursor()\n",
    "    \n",
    "    # Fetch results of Schema\n",
    "    results = cursor.execute(\"PRAGMA table_info('BMIs')\").fetchall()\n",
    "\n",
    "    # Print the results\n",
    "    for row in results:\n",
    "        print(row)\n",
    "\n",
    "    # Close the database connection\n",
    "    conn.close()\n",
    "    \n",
    "schema()"
   ]
  },
  {
   "cell_type": "code",
   "execution_count": 66,
   "metadata": {},
   "outputs": [
    {
     "name": "stdout",
     "output_type": "stream",
     "text": [
      "(1, 'Shruthi', 5, 100, 11)\n",
      "(2, 'Finn', 3, 110, 12)\n",
      "(6, 'Aneesh', 6, 110, 12)\n",
      "(7, 'James', 5, 100, 11)\n",
      "(8, 'Paaras', 3, 110, 12)\n",
      "(9, 'Jake', 6, 110, 12)\n"
     ]
    }
   ],
   "source": [
    "import sqlite3\n",
    "\n",
    "def read():\n",
    "    # Connect to the database file\n",
    "    conn = sqlite3.connect(database)\n",
    "\n",
    "    # Create a cursor object to execute SQL queries\n",
    "    cursor = conn.cursor()\n",
    "    \n",
    "    # Execute a SELECT statement to retrieve data from a table\n",
    "    results = cursor.execute('SELECT * FROM BMIList').fetchall()\n",
    "\n",
    "    # Print the results\n",
    "    if len(results) == 0:\n",
    "        print(\"Table is empty\")\n",
    "    else:\n",
    "        for row in results:\n",
    "            print(row)\n",
    "\n",
    "    # Close the cursor and connection objects\n",
    "    cursor.close()\n",
    "    conn.close()\n",
    "    \n",
    "read()"
   ]
  },
  {
   "cell_type": "code",
   "execution_count": 68,
   "metadata": {},
   "outputs": [
    {
     "name": "stdout",
     "output_type": "stream",
     "text": [
      "A new BMI record 17 has been created\n"
     ]
    }
   ],
   "source": [
    "def create():\n",
    "    database = 'instance/sqlite.db'\n",
    "    name = input(\"Enter your name:\")\n",
    "    height = input(\"Enter your height:\")\n",
    "    weight = input(\"Enter your weight\")\n",
    "    BMI = input(\"Enter your BMI\")\n",
    "\n",
    "    # Connect to the database file\n",
    "    conn = sqlite3.connect(database)\n",
    "\n",
    "    # execute SQL commands\n",
    "    cursor = conn.cursor()\n",
    "\n",
    "    try:\n",
    "        # insert data into a table\n",
    "        cursor.execute(\"INSERT INTO BMIList (_name, _height, _weight, _BMI) VALUES (?, ?, ?, ?)\",\n",
    "                       (name, height, weight, BMI))\n",
    "        # Commit the changes \n",
    "        conn.commit()\n",
    "        print(f\"A new BMI record {BMI} has been created\")\n",
    "\n",
    "    except sqlite3.Error as error:\n",
    "        print(\"Error with inserting\", error)\n",
    "\n",
    "    # Close the cursor and connection objects\n",
    "    cursor.close()\n",
    "    conn.close()\n",
    "\n",
    "\n",
    "create()"
   ]
  },
  {
   "cell_type": "code",
   "execution_count": 78,
   "metadata": {},
   "outputs": [
    {
     "name": "stdout",
     "output_type": "stream",
     "text": [
      "(1, 'Shruthi', 5, 100, 11)\n",
      "(2, 'Finn', 3, 110, 12)\n",
      "(6, 'Aneesh', 6, 110, 12)\n",
      "(7, 'James', 5, 100, 11)\n",
      "(8, 'Paaras', 3, 110, 12)\n",
      "(9, 'Jake', 6, 110, 12)\n",
      "(10, 'Mort', 6, 112, 17)\n"
     ]
    }
   ],
   "source": [
    "read()"
   ]
  },
  {
   "cell_type": "code",
   "execution_count": 79,
   "metadata": {},
   "outputs": [
    {
     "name": "stdout",
     "output_type": "stream",
     "text": [
      "----Original Table:----\n",
      "(1, 'Shruthi', 5, 100, 11)\n",
      "(2, 'Finn', 3, 110, 12)\n",
      "(6, 'Aneesh', 6, 110, 12)\n",
      "(7, 'James', 5, 100, 11)\n",
      "(8, 'Paaras', 3, 110, 12)\n",
      "(9, 'Jake', 6, 110, 12)\n",
      "(10, 'Mort', 6, 112, 17)\n",
      "\n",
      "The row with BMI 17 has been deleted\n",
      "(1, 'Shruthi', 5, 100, 11)\n",
      "(2, 'Finn', 3, 110, 12)\n",
      "(6, 'Aneesh', 6, 110, 12)\n",
      "(7, 'James', 5, 100, 11)\n",
      "(8, 'Paaras', 3, 110, 12)\n",
      "(9, 'Jake', 6, 110, 12)\n"
     ]
    }
   ],
   "source": [
    "import sqlite3\n",
    "\n",
    "def delete():\n",
    "    \n",
    "    database = 'instance/sqlite.db'\n",
    "    BMI = input(\"Enter BMI to delete\")\n",
    "\n",
    "    # Connect to the database file\n",
    "    conn = sqlite3.connect(database)\n",
    "\n",
    "    # Create a cursor object to execute SQL commands\n",
    "    cursor = conn.cursor()\n",
    "    \n",
    "    try:\n",
    "        cursor.execute(\"DELETE FROM BMIList WHERE _BMI = ?\", (BMI,))\n",
    "        if cursor.rowcount == 0:\n",
    "            # The uid was not found in the table\n",
    "            print(f\"No BMI {BMI} was not found in the table\")\n",
    "        else:\n",
    "            # The uid was found in the table and the row was deleted\n",
    "            print(f\"The row with BMI {BMI} has been deleted\")\n",
    "        conn.commit()\n",
    "    except sqlite3.Error as error:\n",
    "        print(\"Error in DELETE:\", error)\n",
    "        \n",
    "    # Close the cursor and connection objects\n",
    "    cursor.close()\n",
    "    conn.close()\n",
    "print(\"----Original Table:----\")\n",
    "read()\n",
    "print(\"\")\n",
    "delete()\n",
    "read()"
   ]
  },
  {
   "cell_type": "code",
   "execution_count": 89,
   "metadata": {},
   "outputs": [
    {
     "name": "stdout",
     "output_type": "stream",
     "text": [
      "----Original Database:----\n",
      "(1, 'Shruthi', 5, 100, 11)\n",
      "(2, 'Finn', 3, 110, 12)\n",
      "(6, 'Aneesh', 6, 110, 12)\n",
      "(7, 'James', 5, 100, 11)\n",
      "(8, 'Paaras', 3, 110, 12)\n",
      "(9, 'Jake', 6, 110, 12)\n",
      "\n",
      "----Updated Database:----\n",
      "The row with his/her Shruthi implies that you are either underweight or overweight\n",
      "(1, 'Shruthi', 5, 100, 18)\n",
      "(2, 'Finn', 3, 110, 12)\n",
      "(6, 'Aneesh', 6, 110, 12)\n",
      "(7, 'James', 5, 100, 11)\n",
      "(8, 'Paaras', 3, 110, 12)\n",
      "(9, 'Jake', 6, 110, 12)\n"
     ]
    }
   ],
   "source": [
    "import sqlite3\n",
    "\n",
    "def update():\n",
    "    name = input(\"Enter your name to update your BMI\")\n",
    "    BMI = input(\"Enter updated BMI\")\n",
    "    if BMI == 19:\n",
    "        message = \"you are normal\"\n",
    "    else:\n",
    "        message = \"you are either underweight or overweight\"\n",
    "\n",
    "    # Connect to the database file\n",
    "    conn = sqlite3.connect(database)\n",
    "\n",
    "    # Create a cursor object to execute SQL commands\n",
    "    cursor = conn.cursor()\n",
    "\n",
    "    try:\n",
    "        # Execute an SQL command to update data in a table\n",
    "        cursor.execute(\"UPDATE BMIList SET _BMI = ? WHERE _name = ?\", (BMI, name))\n",
    "        if cursor.rowcount == 0:\n",
    "            # The uid was not found in the table\n",
    "            print(f\"No name {name} was not found in the table\")\n",
    "        else:\n",
    "            print(f\"The row with his/her {name} implies that {message}\")\n",
    "            conn.commit()\n",
    "    except sqlite3.Error as error:\n",
    "        print(\"Error while executing the UPDATE:\", error)\n",
    "        \n",
    "    \n",
    "    # Close the cursor and connection objects\n",
    "    cursor.close()\n",
    "    conn.close()\n",
    "print('----Original Database:----')\n",
    "read()   \n",
    "print(\"\")\n",
    "print('----Updated Database:----')\n",
    "update()\n",
    "read()"
   ]
  },
  {
   "cell_type": "code",
   "execution_count": 92,
   "metadata": {},
   "outputs": [
    {
     "name": "stdout",
     "output_type": "stream",
     "text": [
      "(1, 'Shruthi', 5, 100, 18)\n",
      "(2, 'Finn', 3, 110, 12)\n",
      "(6, 'Aneesh', 6, 110, 12)\n",
      "(7, 'James', 5, 100, 11)\n",
      "(8, 'Paaras', 3, 110, 12)\n",
      "(9, 'Jake', 6, 110, 12)\n"
     ]
    }
   ],
   "source": [
    "def menu():\n",
    "    operation = input(\"Enter: (C)reate (R)ead (U)pdate or (D)elete\")\n",
    "    if operation.lower() == 'c':\n",
    "        create()\n",
    "    elif operation.lower() == 'r':\n",
    "        read()\n",
    "    elif operation.lower() == 'u':\n",
    "        update()\n",
    "    elif operation.lower() == 'd':\n",
    "        delete()\n",
    "    elif len(operation)==0: # Escape Key\n",
    "        return\n",
    "    else:\n",
    "        print(\"Please enter c, r, u, d\") \n",
    "    menu() # recursion (repeats)\n",
    "        \n",
    "try:\n",
    "    menu() # start menu\n",
    "except:\n",
    "    print(\"Perform Jupyter 'Run All' prior to starting menu\")"
   ]
  }
 ],
 "metadata": {
  "kernelspec": {
   "display_name": "base",
   "language": "python",
   "name": "python3"
  },
  "language_info": {
   "codemirror_mode": {
    "name": "ipython",
    "version": 3
   },
   "file_extension": ".py",
   "mimetype": "text/x-python",
   "name": "python",
   "nbconvert_exporter": "python",
   "pygments_lexer": "ipython3",
   "version": "3.9.12"
  },
  "orig_nbformat": 4
 },
 "nbformat": 4,
 "nbformat_minor": 2
}
