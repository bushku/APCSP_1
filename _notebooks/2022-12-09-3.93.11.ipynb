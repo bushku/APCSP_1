{
 "cells": [
  {
   "cell_type": "code",
   "execution_count": null,
   "metadata": {},
   "outputs": [],
   "source": [
    "# 3.9 and 3.11 Hacks\n",
    "> These are my 3.9 and 3.11 Hacks."
   ]
  },
  {
   "cell_type": "code",
   "execution_count": null,
   "metadata": {},
   "outputs": [],
   "source": [
    "Three components of an algorithm:\n",
    " - sequence\n",
    " - selection\n",
    " - Iteration\n",
    "It is important to know that algorithms can be written in different ways in a way they can do the same thing because the outputs are the same in different ways.\n",
    "It is important to know that algorithms that look the same might have different results because the outputs are different even though the codes are almost the same. "
   ]
  },
  {
   "cell_type": "code",
   "execution_count": null,
   "metadata": {},
   "outputs": [],
   "source": [
    "## Examples\n",
    "print(\"What Grade Did You Get?\")\n",
    "grade = int(input(79))\n",
    "if grade >= 95:\n",
    "        print(\"Wow! Good job!\")\n",
    "if 70 <= grade < 95:\n",
    "        print(\"Nice!\")\n",
    "elif grade < 70:\n",
    "        print(\"Do Better\")"
   ]
  },
  {
   "cell_type": "markdown",
   "metadata": {},
   "source": [
    "## How Nested Conditionals are Related to Boolean Expressions\n",
    "The following 2 pieces of code are supposed to print \"don't go to school\" unless:\n"
   ]
  },
  {
   "cell_type": "code",
   "execution_count": 1,
   "metadata": {},
   "outputs": [
    {
     "name": "stdout",
     "output_type": "stream",
     "text": [
      "go to school early!\n"
     ]
    }
   ],
   "source": [
    "\n",
    "\n",
    "isLatestart = False\n",
    "isEarlyStart = True\n",
    "\n",
    "\n",
    "if isLatestart == True:\n",
    "    print(\"go to school late!\")\n",
    "\n",
    "\n",
    "else:\n",
    "    if isEarlyStart == True:\n",
    "        print(\"go to school early!\")\n",
    "    \n",
    "    else:\n",
    "        print(\"go to school late!\")"
   ]
  },
  {
   "cell_type": "code",
   "execution_count": 2,
   "metadata": {},
   "outputs": [
    {
     "name": "stdout",
     "output_type": "stream",
     "text": [
      "go to school early!\n"
     ]
    }
   ],
   "source": [
    "isLatestart = False\n",
    "isEarlyStart = True\n",
    "\n",
    "\n",
    "driveSchool = not(isLatestart) and isEarlyStart\n",
    "if driveSchool == False:\n",
    "    print(\"go to school late!\")\n",
    "if driveSchool == True:\n",
    "    print(\"go to school early!\")\n"
   ]
  },
  {
   "cell_type": "code",
   "execution_count": null,
   "metadata": {},
   "outputs": [],
   "source": [
    "## Developing Algorithms\n",
    "When creating an algorithm, it is extremely important to outline the process before coding."
   ]
  },
  {
   "attachments": {},
   "cell_type": "markdown",
   "metadata": {},
   "source": [
    "![Flowcart.png]({{site.baseurl}}/images/Flowcart.png \"https://github.com/bushku/APCSP_1\")"
   ]
  },
  {
   "cell_type": "code",
   "execution_count": null,
   "metadata": {},
   "outputs": [],
   "source": [
    "print(\"The parking rate is as follows: \\n Less than one hour: Free \\n 1-2 hours: $5 \\n 2-3 hours: $8 \\n 3-4 hours: $10 \\n 4+ hours: $12\")\n",
    "\n",
    "time = float(input(\"How many hours have you parked at this garage?\"))\n",
    "print(\"How many hours have you parked at this garage?\")\n",
    "print(time, \"hours costs:\")\n",
    "\n",
    "if time < 1 :\n",
    "    print(\"Free\")\n",
    "elif time >= 1 and time < 2 :\n",
    "    print(\"$5\")\n",
    "elif time >= 2 and time < 3 :\n",
    "    print(\"$8\")\n",
    "elif time >= 3 and time < 4 :\n",
    "    print(\"$10\")\n",
    "else:\n",
    "    print(\"$12\")\n",
    "\n",
    "print(\"Have a good day!\")"
   ]
  },
  {
   "cell_type": "code",
   "execution_count": null,
   "metadata": {},
   "outputs": [],
   "source": [
    "import random\n",
    "\n",
    "#sets variables for the game\n",
    "num_guesses = 0\n",
    "user_guess = 0\n",
    "upper_bound = 100\n",
    "lower_bound = 0\n",
    "\n",
    "#generates a random number\n",
    "number = random.randint(1,100)\n",
    "\n",
    "# print(number)     #for testing purposes\n",
    "\n",
    "print(f\"I'm thinking of a number between 1 and 100.\")\n",
    "\n",
    "#Write a function that gets a guess from the user using input()\n",
    "def guess():\n",
    "    #add something here\n",
    "    return #add something here \n",
    "\n",
    "#Change the print statements to give feedback on whether the player guessed too high or too low\n",
    "def search(number, guess):\n",
    "    global lower_bound, upper_bound\n",
    "    if guess < number:\n",
    "        print(\"You are bad at guessing\") #change this\n",
    "        lower_bound = guess\n",
    "    elif guess > number:\n",
    "        print(\"You suck :(\") #change this\n",
    "        upper_bound = guess\n",
    "    return lower_bound, upper_bound\n",
    "\n",
    "while user_guess != number:\n",
    "    user_guess = guess()\n",
    "    num_guesses += 1\n",
    "    print(f\"You guessed {user_guess}.\")\n",
    "    lower_bound, upper_bound = search(number, user_guess)\n",
    "    print(f\"Guess a number between {lower_bound} and {upper_bound}.\")\n",
    "\n",
    "print(f\"You guessed the number in {num_guesses} guesses!\")"
   ]
  }
 ],
 "metadata": {
  "kernelspec": {
   "display_name": "Python 3.8.10 64-bit",
   "language": "python",
   "name": "python3"
  },
  "language_info": {
   "codemirror_mode": {
    "name": "ipython",
    "version": 3
   },
   "file_extension": ".py",
   "mimetype": "text/x-python",
   "name": "python",
   "nbconvert_exporter": "python",
   "pygments_lexer": "ipython3",
   "version": "3.8.10 (default, Jun 22 2022, 20:18:18) \n[GCC 9.4.0]"
  },
  "orig_nbformat": 4,
  "vscode": {
   "interpreter": {
    "hash": "916dbcbb3f70747c44a77c7bcd40155683ae19c65e1c03b4aa3499c5328201f1"
   }
  }
 },
 "nbformat": 4,
 "nbformat_minor": 2
}
